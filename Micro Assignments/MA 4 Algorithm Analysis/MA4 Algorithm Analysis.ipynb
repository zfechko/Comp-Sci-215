{
 "cells": [
  {
   "cell_type": "markdown",
   "metadata": {},
   "source": [
    "# [CptS 215 Data Analytics Systems and Algorithms](https://piazza.com/wsu/fall2017/cpts215/home)\n",
    "[Washington State University](https://wsu.edu)\n",
    "\n",
    "[Srini Badri](https://school.eecs.wsu.edu/people/faculty/), [Gina Sprint](http://eecs.wsu.edu/~gsprint/)\n",
    "\n",
    "## MA4 Algorithm Analysis (50 pts)\n",
    "<mark>Due: Sunday, February 13th, 2022</mark>\n",
    "\n",
    "### Learner Objectives\n",
    "At the conclusion of this micro assignment, participants should be able to:\n",
    "* Derive4growth rate functions\n",
    "* Analyze algorithms for efficiency in terms of time and space complexity\n",
    "\n",
    "### Prerequisites\n",
    "Before starting this micro assignment, participants should be able to:\n",
    "* Implement/analyze algorithms\n",
    "* Write Markdown and code cells in Jupyter Notebook\n",
    "* Type set equations using Latex\n",
    "\n",
    "### Acknowledgments\n",
    "Content used in this assignment is based upon information in the following sources:\n",
    "* A WSU CptS 223 assignment by [Aaron Crandall](http://eecs.wsu.edu/~acrandal/)."
   ]
  },
  {
   "cell_type": "markdown",
   "metadata": {
    "collapsed": true
   },
   "source": [
    "## Overview and Requirements\n",
    "For this micro assignment, you are going to download this Jupyter Notebook and answer the following questions. Your answer for a problem should be in a cell *immediately* after the problem cell. *Do not modify the problem cell.*"
   ]
  },
  {
   "cell_type": "markdown",
   "metadata": {},
   "source": [
    "### Problem 1 (8 pts)\n",
    "A program takes 20 seconds for input size 250 (i.e., n=250). Ignoring the effect of constants, approximately how much time can the same program be expected to take if the input size is increased to 1000 given the following run-time complexities? \n",
    "1.\t$\\mathcal{O}(N)$\n",
    "2.\t$\\mathcal{O}(N log N)$\n",
    "3.\t$\\mathcal{O}(N^{3})$\n",
    "4.\t$\\mathcal{O}(2^{N})$"
   ]
  },
  {
   "cell_type": "markdown",
   "metadata": {},
   "source": [
    "### Problem 1 Answers\n",
    "1. $O(n)$ time \n",
    "   - given 20 seconds for 250 inputs\n",
    "   - $(20/250) * 1000$ = <mark>$80$ seconds </mark>\n",
    "2. $O(nlog(n))$ \n",
    "   - $(250 log(250)) = 20$ seconds\n",
    "   - so $((20/250) log(20/250))*(1000 log(1000)) =$ <mark>$100.09$ seconds</mark>\n",
    "3. $O(n^3)$\n",
    "   - given input size 250: $(250^3)$ time $ = 20$ seconds\n",
    "   - an input size of 100 should be $((20/250)^3) * 1000^3 =$ <mark>$1280$ seconds</mark>\n",
    "4. $O(2^n)$\n",
    "   - given input size 250: $(2^{250})$ time $ = 20$ seconds\n",
    "   - an input size of 1000 with $2^{1000}$ time should be $(20/2 ^{250})*2^{1000} =$ <mark>$1.184477e+227$ seconds</mark>"
   ]
  },
  {
   "cell_type": "markdown",
   "metadata": {},
   "source": [
    "### Problem 2 (8 pts)\n",
    "Given the following two functions:\n",
    "\n",
    "```python\n",
    "def f(n): \n",
    "   if n <= 0:\n",
    "      return 0\n",
    "   return 1 + f(n - 1)\n",
    "\n",
    "def g(n): \n",
    "   summ = 0\n",
    "   for i in range(0, n, 1):\n",
    "      summ += 1\n",
    "   return summ\n",
    "```\n",
    "\n",
    "1. (3 pts) State the runtime complexity of both `f()` and `g()`\n",
    "1. (3 pts) State the memory (space) complexity for both `f()` and `g()`\n",
    "1. (2 pts) Write another function called `h(n)` that does the same thing, but is significantly faster."
   ]
  },
  {
   "cell_type": "markdown",
   "metadata": {},
   "source": [
    "### Problem 2 Answers\n",
    "1. The time complexity of `f()` is $O(n)$, and the time complexity of `g()` is also $O(n)$\n",
    "2. The space complexity of `f()` is $O(n)$, and the space complexity of `g()` is $O(1)$\n",
    "3. ```python\n",
    "    def h(n):\n",
    "        return n\n",
    "    ``` \n",
    "    `h(n)` has a time and space complexity of $O(1)$"
   ]
  },
  {
   "cell_type": "markdown",
   "metadata": {},
   "source": [
    "### Problem 3 (8 pts)\n",
    "State `g(n)`'s runtime complexity:\n",
    "\n",
    "```python\n",
    "def f(n):\n",
    "   if n <= 1:\n",
    "      return 1\n",
    "   return 1 + f(n/2)\n",
    "\n",
    "def g(n):\n",
    "   i = 1\n",
    "   while i < n: \n",
    "       f(i)\n",
    "       i *= 2\n",
    "```"
   ]
  },
  {
   "cell_type": "markdown",
   "metadata": {},
   "source": [
    "### Problem 3 Answer\n",
    "`g(n)`'s runtime/time complexity is $O(log_2(n)^2)$"
   ]
  },
  {
   "cell_type": "markdown",
   "metadata": {},
   "source": [
    "### Problem 4 (8 pts)\n",
    "Provide the algorithmic efficiency for the following tasks.  Justify your answer.\n",
    "1. Determining whether or not a number exists in a list\n",
    "2. Finding the smallest number in a list\n",
    "3. Determining whether or not two unsorted lists of the same length contain all of the same values (assume no duplicate values)\n",
    "4. Determining whether or not two sorted list contain all of the same values (assume no duplicate values)"
   ]
  },
  {
   "cell_type": "markdown",
   "metadata": {},
   "source": [
    "### Problem 4 Answers\n",
    "1. Determining whether a number exists or not would be a time complexity of $O(n)$ time where n is the number of elements in the list because you have to iterate through each element in the list and compare it to the given value\n",
    "2. There are two answers for this one and it depends on if the list is sorted or not\n",
    "    - <u>Sorted:</u> Finding the smallest value would have a time complexity of $O(1)$ because you'd just return the first item in the list\n",
    "    - <u>Unsorted:</u> Finding the smallest value would have a time complexity of $O(n)$ where n is the number of items in the list, because you have to traverse the entire length of the list to find the smallest value\n",
    "3. Finding if unsorted lists have the same values would require a time complexity of $O(n^2)$ time because you have to write two loops that iterate up to the length of both lists\n",
    "4. Finding if two sorted lists have the same values would require a time complexity of $O(n)$ because you only have to write one loop that compares each element in the list and breaks if something doesn't match"
   ]
  },
  {
   "cell_type": "markdown",
   "metadata": {},
   "source": [
    "### Problem 5 - Implementation (15 pts)\n",
    "Prove that linear search has a time complexity of O(N).\n",
    "\n",
    "To measure the computation time of linear search algorithm, use the following approach:\n",
    "- define a method for linear search algorithms with the syntax: <br>\n",
    "    linear_search(array, target)\n",
    "<br><br>\n",
    "- perform the following steps in your main code:\n",
    "    - Repeat the following steps for N = 1000, 10000, 100000, 1000000, 10000000:\n",
    "        - create an array of sorted integers in the range of 1 through N\n",
    "        - generate a random target value in the range of N/4 and 3N/4\n",
    "        - measure start time\n",
    "        - call linear search with the array and the target value\n",
    "        - measure stop time\n",
    "        - print search index result and computation time (end time - start time)\n",
    "<br><br>\n",
    "- compare the compuation time in relation to array size (N). The comparison can be in the form of console output or Matplotlib plot. \n",
    "\n",
    "<b>Note</b>:\n",
    "- Refer to the lectures on Linear Search and Measuring Time Complexity for reference.\n",
    "- Implement the solution in Python Code cells within the Jupyter Notebook"
   ]
  },
  {
   "cell_type": "code",
   "execution_count": 1,
   "metadata": {},
   "outputs": [
    {
     "name": "stdout",
     "output_type": "stream",
     "text": [
      "Target: 318, Index: 317, Runtime: 0.000997304916381836\n",
      "Target: 6175, Index: 6174, Runtime: 0.0013620853424072266\n",
      "Target: 42176, Index: 42175, Runtime: 0.01196742057800293\n",
      "Target: 372932, Index: 372931, Runtime: 0.09416556358337402\n",
      "Target: 6576247, Index: 6576246, Runtime: 1.7165608406066895\n",
      "[999, 9999, 99999, 999999, 9999999]\n",
      "[0.000997304916381836, 0.0013620853424072266, 0.01196742057800293, 0.09416556358337402, 1.7165608406066895]\n"
     ]
    },
    {
     "data": {
      "image/png": "[encoded data removed]",
      "text/plain": [
       "<Figure size 432x288 with 1 Axes>"
      ]
     },
     "metadata": {},
     "output_type": "display_data"
    }
   ],
   "source": [
    "import time #for timing the runtime of the function\n",
    "import matplotlib.pyplot as plt #for graphing the results\n",
    "import random #generating the random value\n",
    "import numpy as np #for storing the sample data\n",
    "plt.style.use('dracula')\n",
    "\n",
    "def linear_search(array, target):\n",
    "    \"\"\"\n",
    "    Performs linear search for an object, returns the index that the item is at\n",
    "    Time complexity: O(n) where n is the number of items in the list\n",
    "    \"\"\"\n",
    "    for x in range(0, array.size):\n",
    "        if array[x] == target:\n",
    "            return x\n",
    "    return -1\n",
    "\n",
    "list_size = []\n",
    "runtime_list = []\n",
    "\n",
    "\n",
    "def solve_linear(value):\n",
    "    \"\"\"\n",
    "    Runs through the steps in the problem instructions\n",
    "    \"\"\"\n",
    "    arr = np.arange(1, value)\n",
    "    list_size.append(arr.size)\n",
    "    target = random.randint(value // 4, 3 * value // 4)\n",
    "    start = time.time()\n",
    "    index = linear_search(arr ,target)\n",
    "    end = time.time()\n",
    "    runtime = end - start\n",
    "    runtime_list.append(runtime)\n",
    "    print(\"Target:\", target, end=', ')\n",
    "    print(\"Index:\", index, end=', ')\n",
    "    print(\"Runtime:\", runtime)\n",
    "\n",
    "vals = [1000, 10000, 100000, 1000000, 10000000]\n",
    "for item in vals:\n",
    "    solve_linear(item)\n",
    "\n",
    "print(list_size)\n",
    "print(runtime_list)\n",
    "\n",
    "plt.plot(list_size, runtime_list)\n",
    "plt.xlabel(\"Number of items in list\")\n",
    "plt.ylabel(\"Function runtime\")\n",
    "plt.title(\"Time complexity of linear search\")\n",
    "plt.show()\n",
    "\n"
   ]
  },
  {
   "cell_type": "markdown",
   "metadata": {},
   "source": [
    "### Bonus Problem - Implementation (3 pts)\n",
    "Prove that binary search has a time complexity of $O(log N)$. \n",
    "\n",
    "To measure the computation time of binary search algorithm, use the approach described in Problem #5 above."
   ]
  },
  {
   "cell_type": "code",
   "execution_count": 8,
   "metadata": {},
   "outputs": [
    {
     "name": "stdout",
     "output_type": "stream",
     "text": [
      "Target: 581, Index: 580, Start Time: 1650473019.9415123, End Time: 1650473020.0476062, Runtime: 0.1060938835144043\n",
      "Target: 7133, Index: 7132, Start Time: 1650473020.0476062, End Time: 1650473020.1541562, Runtime: 0.10654997825622559\n",
      "Target: 31730, Index: 31729, Start Time: 1650473020.1551285, End Time: 1650473020.2618487, Runtime: 0.1067202091217041\n",
      "Target: 722015, Index: 722014, Start Time: 1650473020.2628474, End Time: 1650473020.3701339, Runtime: 0.10728645324707031\n",
      "Target: 3129091, Index: 3129090, Start Time: 1650473020.3862715, End Time: 1650473020.494993, Runtime: 0.10872149467468262\n"
     ]
    },
    {
     "data": {
      "image/png": "[encoded data removed]",
      "text/plain": [
       "<Figure size 432x288 with 1 Axes>"
      ]
     },
     "metadata": {},
     "output_type": "display_data"
    },
    {
     "name": "stdout",
     "output_type": "stream",
     "text": [
      "[999, 9999, 99999, 999999, 9999999]\n",
      "[0.1060938835144043, 0.10654997825622559, 0.1067202091217041, 0.10728645324707031, 0.10872149467468262]\n",
      "[1650473019.9415123, 1650473020.0476062, 1650473020.1551285, 1650473020.2628474, 1650473020.3862715]\n",
      "[1650473020.0476062, 1650473020.1541562, 1650473020.2618487, 1650473020.3701339, 1650473020.494993]\n"
     ]
    }
   ],
   "source": [
    "list_size.clear()\n",
    "runtime_list.clear()\n",
    "\n",
    "start_time_list =[]\n",
    "end_time_list = []\n",
    "\n",
    "\n",
    "def binary_search_iterative(alist, target):\n",
    "    \"\"\"\n",
    "    Implentation of binary search using an iterative approach, returns the index of a target value\n",
    "    \"\"\"\n",
    "    start = 0\n",
    "    end = alist.size - 1\n",
    "\n",
    "    while start <= end:\n",
    "        mid = (start + end) // 2\n",
    "        if alist[mid] < target:\n",
    "            start = mid + 1\n",
    "        elif alist[mid] > target:\n",
    "            end = mid - 1\n",
    "        else:\n",
    "            return mid\n",
    "    return -1\n",
    "\n",
    "def binary_search_recursive(alist, target, start, end):\n",
    "    \"\"\"\n",
    "    Implementation of binary search using a recursive approach, returns the index of a target value\n",
    "    \"\"\"\n",
    "    if start > end:\n",
    "        return -1\n",
    "    mid = (start + end) // 2\n",
    "    if alist[mid] == target:\n",
    "        return mid\n",
    "    elif alist[mid] < target:\n",
    "        return binary_search_recursive(alist, target, mid + 1, end)\n",
    "    else:\n",
    "        return binary_search_recursive(alist, target, start, mid - 1)\n",
    "\n",
    "def solve_binary(value):\n",
    "    \"\"\"\n",
    "    Runs through the steps specified in the problem instructions\n",
    "    \"\"\"\n",
    "    arr = np.arange(1, value)\n",
    "    list_size.append(arr.size)\n",
    "    target = random.randint(value // 4, 3 * value // 4)\n",
    "    start = time.time()\n",
    "    start_time_list.append(start)\n",
    "    index = binary_search_iterative(arr ,target)\n",
    "    time.sleep(0.1) #this is to prevent the function from returning absolute 0 for a runtime\n",
    "    end = time.time()\n",
    "    end_time_list.append(end)\n",
    "    runtime = end - start\n",
    "    runtime_list.append(runtime)\n",
    "    print(\"Target:\", target, end=', ')\n",
    "    print(\"Index:\", index, end=', ')\n",
    "    print(\"Start Time:\", start, end=', ')\n",
    "    print(\"End Time:\", end, end=', ')\n",
    "    print(\"Runtime:\", runtime)\n",
    "\n",
    "values = [10000000, 100000000, 1000000000, 10000000000]\n",
    "\n",
    "for item in vals:\n",
    "    solve_binary(item)\n",
    "\n",
    "plt.plot(list_size, runtime_list)\n",
    "plt.xlabel(\"Number of items in list\")\n",
    "plt.ylabel(\"Function Runtime\")\n",
    "plt.title(\"Binary Search Time Complexity\")\n",
    "plt.show()\n",
    "\n",
    "print(list_size)\n",
    "print(runtime_list)\n",
    "print(start_time_list)\n",
    "print(end_time_list)"
   ]
  },
  {
   "cell_type": "markdown",
   "metadata": {},
   "source": [
    "## Submitting Assignments\n",
    "1.\tUse the Blackboard tool https://learn.wsu.edu to submit your assignment. You will submit your solution to the corresponding programming assignment under the \"Content\" tab. You must upload your solutions as `<your last name>_ma4.zip` by the due date and time.\n",
    "2.\tYour .zip file should contain your <b>.ipynb</b> file and a <b>.html</b> file representing your Notebook as a webpage (File->Download as->HTML)."
   ]
  },
  {
   "cell_type": "markdown",
   "metadata": {},
   "source": [
    "## Grading Guidelines\n",
    "This assignment is worth (50 + 3) points. Your assignment will be evaluated based on adherence to the requirements. See each problem above for individual problem point values. In addition, we will grade according to the following criteria:\n",
    "* 47 pts for correct answers to all the questions\n",
    "* 3 pts for for adherence to proper programming style and comments established for the class\n",
    "* 3 pts for correct answer to the bonus question"
   ]
  }
 ],
 "metadata": {
  "anaconda-cloud": {},
  "kernelspec": {
   "display_name": "Python 3 (ipykernel)",
   "language": "python",
   "name": "python3"
  },
  "language_info": {
   "codemirror_mode": {
    "name": "ipython",
    "version": 3
   },
   "file_extension": ".py",
   "mimetype": "text/x-python",
   "name": "python",
   "nbconvert_exporter": "python",
   "pygments_lexer": "ipython3",
   "version": "3.8.12"
  }
 },
 "nbformat": 4,
 "nbformat_minor": 1
}
