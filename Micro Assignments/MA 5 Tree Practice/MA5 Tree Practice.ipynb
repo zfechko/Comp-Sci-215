{
 "cells": [
  {
   "cell_type": "markdown",
   "metadata": {},
   "source": [
    "# [CptS 215 Data Analytics Systems and Algorithms](https://piazza.com/wsu/fall2017/cpts215/home)\n",
    "[Washington State University](https://wsu.edu)\n",
    "\n",
    "[Srini Badri](https://school.eecs.wsu.edu/people/faculty/), [Gina Sprint](http://eecs.wsu.edu/~gsprint/)\n",
    "\n",
    "## MA5 Tree Practice (50 pts)\n",
    "<mark>Due: March 6th, 2022</mark>\n",
    "\n",
    "### Learner Objectives\n",
    "At the conclusion of this micro assignment, participants should be able to:\n",
    "* Implement/analyze trees\n",
    "    * Binary trees\n",
    "    * Binary search trees\n",
    "\n",
    "### Prerequisites\n",
    "Before starting this micro assignment, participants should be able to:\n",
    "* Write object oriented Python code\n",
    "* Write Markdown and code cells in Jupyter Notebook\n",
    "* Perform algorithm analysis\n",
    "\n",
    "### Acknowledgments\n",
    "Content used in this assignment is based upon information in the following sources:\n",
    "* [Data Structures: Abstraction and Design Using Java](http://www.wiley.com/WileyCDA/WileyTitle/productCd-EHEP001607.html) by Koffman and Wolfgang"
   ]
  },
  {
   "cell_type": "markdown",
   "metadata": {
    "collapsed": true
   },
   "source": [
    "## Overview and Requirements\n",
    "For this micro assignment, you are going to download this Jupyter Notebook and answer the following questions. Your answer for a problem should be in a cell *immediately* after the problem cell. *Do not modify the problem cell.*\n",
    "\n",
    "We are going to solve several problems related to trees and their efficiency. This micro assignment includes conceptional questions and programming.\n",
    "\n",
    "### Conceptual Questions (35 pts)\n",
    "Solve the following problems and *justify* your answers:"
   ]
  },
  {
   "cell_type": "markdown",
   "metadata": {},
   "source": [
    "1. For the following binary tree:<br>\n",
    "<img src=\"https://raw.githubusercontent.com/gsprint23/cpts215/master/microassignments/figures/ma5_tree.png\" width=\"400\"/>\n",
    "\n",
    "    1. (2 pts) Is the tree full?  \n",
    "    1. (2 pts) Is the tree complete? \n",
    "    1. (2 pts) What is the tree's height? \n",
    "    1. List the nodes in the tree in the order they would be visited during a: \n",
    "        1. (4 pts) Pre-order traversal\n",
    "        1. (4 pts) Level-order traversal\n",
    "        1. (4 pts) Post-order traversal\n",
    "        1. (4 pts) In-order traversal"
   ]
  },
  {
   "cell_type": "markdown",
   "metadata": {},
   "source": [
    "**Answers**\n",
    "1. The tree is full because in order to have a full tree each node must have 0 or two children, and there are no nodes in this tree wth only one child node\n",
    "2. The tree is complete because the second to last level is full and the leaf nodes in the deepest level are as left as possible\n",
    "3. The height of the tree is 3\n",
    "4.\n",
    "    - **Pre Order**: *, A, 1, X, Y, 2, B, 3, 4\n",
    "    - **Level Order**: *, A, B, 1, 2, 3, 4, X, Y\n",
    "    - **Post Order**: X, Y, 1, 2, A, 3, 4, B, *\n",
    "    - **In Order**: X, 1, Y, A, 2, *, B, 3, 4"
   ]
  },
  {
   "cell_type": "markdown",
   "metadata": {},
   "source": [
    "2. (2 pts) What is the time complexity to search a full BST?"
   ]
  },
  {
   "cell_type": "markdown",
   "metadata": {},
   "source": [
    "**Answer**<br>\n",
    "The time complexity to search a BST is $O(log(n))$"
   ]
  },
  {
   "cell_type": "markdown",
   "metadata": {},
   "source": [
    "3. The following questions refer to the same BST. The operations are cumulative:\n",
    "    1. (2 pts) Show the BST that would result from inserting the items 35, 20, 30, 50, 45, 60, 18, 25 in this sequence.\n",
    "    1. (2 pts) Show the BST that would result after removing item 35 (promote in order successor).\n",
    "    1. (2 pts) Show the BST that would result after removing item 18 (promote in order successor).\n",
    "    1. (2 pts) How would the trees in the previous problems look differently if we promote in order predecessors instead of successors?"
   ]
  },
  {
   "cell_type": "markdown",
   "metadata": {},
   "source": [
    "**Answers**\n",
    "1. Inital Tree <br>\n",
    "<img src=\"1.png\" alt=\"Inital Tree\" style=\"width:50%;height:50%\">\n",
    "2. After removing 35 <br>\n",
    "<img src=\"2.png\" style=\"width:50%;height:50%\">\n",
    "3. After removing 18 <br>\n",
    "<img src=\"3.png\" style=\"width:50%;height:50%\">\n",
    "4. If we used the predecessor instead of the successor:\n",
    "    - The initial tree would look the same as above\n",
    "    - After removing 35 using the predecessor the tree looks like this: <br>\n",
    "    <img src=\"predecessor 2.png\" style=\"width:25%;height:25%\">\n",
    "    - The root is 30 instead of 45\n",
    "    - Removing 18 using a predecessor doesn't change much because 18 is a leaf node <br>\n",
    "    <img src=\"predecessor 3.png\" style=\"width:25%;height:25%\">\n",
    "    - Removing via the successor in this case results in an unbalanced tree, but removing with the predecessor results in a balanced BST"
   ]
  },
  {
   "cell_type": "markdown",
   "metadata": {},
   "source": [
    "4. (3 pts) Give the function calls of `BinaryTree` class methods (from lecture notes) to build the following tree:\n",
    "\n",
    "<img src=\"https://runestone.academy/runestone/books/published/pythonds/_images/exerTree.png\" width=\"540\"/>\n",
    "\n",
    "(image from [https://runestone.academy/runestone/books/published/pythonds/_images/exerTree.png])"
   ]
  },
  {
   "cell_type": "markdown",
   "metadata": {},
   "source": [
    "**Answers** <br>\n",
    "Assuming the node constructor looks like this\n",
    "```python\n",
    "class Node:\n",
    "    def __init__(self, data, left=None, right=None):\n",
    "        self.data = data\n",
    "        self.left = left\n",
    "        self.right = right\n",
    "```\n",
    "With a binary tree class with the constructor\n",
    "```python\n",
    "class BinaryTree():\n",
    "    def __init__(self):\n",
    "        self.root = None\n",
    "```\n",
    "\n",
    "The calls to create the above tree would be\n",
    "```python\n",
    "tree = BinaryTree()\n",
    "tree.root = Node(\"language\")\n",
    "\n",
    "node = Node(\"compiled\", Node(\"C\"), Node(\"Java\"))\n",
    "tree.root.left = node\n",
    "\n",
    "node = Node(\"interpreted\", Node(\"Python\"), Node(\"Scheme\"))\n",
    "tree.root.right = node\n",
    "```\n"
   ]
  },
  {
   "cell_type": "markdown",
   "metadata": {},
   "source": [
    "### Implementation Question (12 pts)\n",
    "\n",
    "Implement a Binary Search Tree data structure using the code provided in the lecture. Update the implementation as described below:\n",
    "* (12 pts) Add `post_order_traversal()` and `in_order_traversal()` methods to print the `data` in post-order and in-order respectively.\n",
    "\n",
    "Test your implementation using the following sequence of code:"
   ]
  },
  {
   "cell_type": "code",
   "execution_count": 7,
   "metadata": {},
   "outputs": [],
   "source": [
    "class BSTNode:\n",
    "    def __init__(self, data, left=None, right=None, parent=None):\n",
    "        self.data = data\n",
    "        self.left = left\n",
    "        self.right = right \n",
    "        self.parent = parent\n",
    "\n",
    "class BST:\n",
    "    def __init__(self):\n",
    "        self.root = None\n",
    "        self.size = 0\n",
    "    \n",
    "    def _insert(self, data, node):\n",
    "        \"\"\"\n",
    "        Recursive insert helper function that does all the legwork of inserting\n",
    "        a node into the bst\n",
    "        \"\"\"\n",
    "        if data == node.data:\n",
    "            return\n",
    "        if data < node.data:\n",
    "            #we need to go to the left\n",
    "            if node.left is None:\n",
    "                #insert here\n",
    "                node.left = BSTNode(data, parent=node)\n",
    "                self.size += 1\n",
    "            else:\n",
    "                #check the left subtree\n",
    "                self._insert(data, node.left)\n",
    "        elif data > node.data:\n",
    "            #we need to go to the right\n",
    "            if node.right is None:\n",
    "                #insert here\n",
    "                node.right = BSTNode(data, parent=node)\n",
    "                self.size += 1\n",
    "            else:\n",
    "                #check the right subtree\n",
    "                self._insert(data, node.right)\n",
    "    \n",
    "    def insert(self, data):\n",
    "        \"\"\"\n",
    "        Wrapper function that calls _insert()\n",
    "        \"\"\"\n",
    "        if self.root is None:\n",
    "            self.root = BSTNode(data)\n",
    "            self.size += 1\n",
    "        else:\n",
    "            self._insert(data, self.root)\n",
    "\n",
    "    def _search(self, data, node):\n",
    "        \"\"\"\n",
    "        Recursive search helper function that doe all the legwork of searching for a node\n",
    "        \"\"\"\n",
    "        if node is None:\n",
    "            return None\n",
    "        else:\n",
    "            if data == node.data:\n",
    "                return node\n",
    "            elif data < node.data:\n",
    "                return self._search(data, node.left)\n",
    "            elif data > node.data:\n",
    "                return self._search(data, node.right)\n",
    "    \n",
    "    def search(self, data):\n",
    "        \"\"\"\n",
    "        Wrapper function that calls _search\n",
    "        \"\"\"\n",
    "        if self.root is None:\n",
    "            return None\n",
    "        else:\n",
    "            node = self._search(data, self.root)\n",
    "            if node is not None:\n",
    "                return node.data\n",
    "            else:\n",
    "                return None\n",
    "\n",
    "    def post_order_helper(self, node):\n",
    "        \"\"\"\n",
    "        Recursive helper function to perform post order traversal\n",
    "        \"\"\"\n",
    "        if node is not None:\n",
    "            self.post_order_helper(node.left)\n",
    "            self.post_order_helper(node.right)\n",
    "            print(node.data, end=' ')\n",
    "\n",
    "    def post_order_traversal(self):\n",
    "        \"\"\"\n",
    "        Wrapper function that calls the above helper function\n",
    "        \"\"\"\n",
    "        if self.root is None:\n",
    "            print(\"empty tree\")\n",
    "            return\n",
    "        self.post_order_helper(self.root)\n",
    "        print('\\n')\n",
    "\n",
    "    def in_order_helper(self, node):\n",
    "        \"\"\"\n",
    "        Recursive helper function to perform in order traversal\n",
    "        \"\"\"\n",
    "        if node is not None:\n",
    "            self.in_order_helper(node.left)\n",
    "            print(node.data, end=' ')\n",
    "            self.in_order_helper(node.right)\n",
    "    \n",
    "    def in_order_traversal(self):\n",
    "        \"\"\"\n",
    "        Wrapper function that calls the in_order_helper function\n",
    "        \"\"\"\n",
    "        if self.root is None:\n",
    "            print(\"empty tree\")\n",
    "            return\n",
    "        self.in_order_helper(self.root)\n",
    "        print('\\n')\n",
    "\n"
   ]
  },
  {
   "cell_type": "code",
   "execution_count": 10,
   "metadata": {},
   "outputs": [
    {
     "name": "stdout",
     "output_type": "stream",
     "text": [
      "Post order: 121 115 132 215 131 122 \n",
      "\n",
      "In order: 115 121 122 131 132 215 \n",
      "\n"
     ]
    }
   ],
   "source": [
    "# Test code for post-order and in-order traversal methods\n",
    "#I changed put() to insert() because that just made more sense to me\n",
    "myTree = BST()\n",
    "myTree.insert(122)\n",
    "myTree.insert(131)\n",
    "myTree.insert(115)\n",
    "myTree.insert(215)\n",
    "myTree.insert(121)\n",
    "myTree.insert(132)\n",
    "\n",
    "print(\"Post order:\", end=' ')\n",
    "myTree.post_order_traversal()\n",
    "print(\"In order:\", end=' ')\n",
    "myTree.in_order_traversal()"
   ]
  },
  {
   "cell_type": "markdown",
   "metadata": {},
   "source": [
    "Here is the expected print output for `post_order_travesal()` method (use of comma is optiona):\n",
    "\n",
    "<i>121, 115, 132, 215, 131, 122</i>\n",
    "\n",
    "\n",
    "Here is the expected print output for `in_order_traversal()` method (use of comma is optional):\n",
    "\n",
    "<i>115, 121, 122, 131, 132, 215</i>"
   ]
  },
  {
   "cell_type": "markdown",
   "metadata": {},
   "source": [
    "## Submitting Assignments\n",
    "1.\tUse Canvas to submit your assignment. You must upload your solutions as `<your last name>_ma5.zip` by the due date and time.\n",
    "2.\tYour .zip file should contain your .ipynb file and a .html file representing your Notebook as a webpage (File->Download as->HTML)."
   ]
  },
  {
   "cell_type": "markdown",
   "metadata": {},
   "source": [
    "## Grading Guidelines\n",
    "This assignment is worth 50 points. Your assignment will be evaluated based on a successful compilation and adherence to the program requirements. We will grade according to the following criteria:\n",
    "* 35 pts for correct answers to the conception questions\n",
    "* 12 pts for correct implementation of Binary Search Tree `post_order_traversal()` and `in_order_traversal()` methods\n",
    "* 3 pts for for adherence to proper programming style and comments established for the class"
   ]
  }
 ],
 "metadata": {
  "anaconda-cloud": {},
  "kernelspec": {
   "display_name": "Python 3",
   "language": "python",
   "name": "python3"
  },
  "language_info": {
   "codemirror_mode": {
    "name": "ipython",
    "version": 3
   },
   "file_extension": ".py",
   "mimetype": "text/x-python",
   "name": "python",
   "nbconvert_exporter": "python",
   "pygments_lexer": "ipython3",
   "version": "3.8.12"
  }
 },
 "nbformat": 4,
 "nbformat_minor": 1
}
