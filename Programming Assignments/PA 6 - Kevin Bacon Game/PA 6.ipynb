{
 "cells": [
  {
   "cell_type": "markdown",
   "metadata": {},
   "source": [
    "# PA 6 - Kevin Bacon Game\n",
    "- Zach Fechko\n",
    "- Last Updated: April 18, 2022\n",
    "- Version 1.0\n",
    "- Description: Uses an unweighted graph to implement the kevin bacon game, connecting actors to kevin bacon through movies they star in"
   ]
  },
  {
   "cell_type": "code",
   "execution_count": 3,
   "metadata": {},
   "outputs": [],
   "source": [
    "import pandas as pd\n",
    "import matplotlib.pyplot as plt\n",
    "from rich.console import Console\n",
    "import graphviz as gv\n",
    "from collections import deque\n",
    "import sys"
   ]
  },
  {
   "cell_type": "markdown",
   "metadata": {},
   "source": [
    "## Functions that construct the dictionaries to create graphs"
   ]
  },
  {
   "cell_type": "code",
   "execution_count": 5,
   "metadata": {},
   "outputs": [
    {
     "data": {
      "text/plain": [
       "{'10': ['1', '100', '200'],\n",
       " '20': ['100', '300'],\n",
       " '30': ['300', '200'],\n",
       " '40': ['300', '400'],\n",
       " '50': ['500', '600']}"
      ]
     },
     "execution_count": 5,
     "metadata": {},
     "output_type": "execute_result"
    }
   ],
   "source": [
    "def create_movies_dict():\n",
    "    \"\"\"\n",
    "    opens moviesTest.txt (will later be changed to movies.txt) and creates a dictionary by parsing each line of the file,\n",
    "    returns a dictionary of movie ids and movie titles\n",
    "    \"\"\"\n",
    "    movies = dict()\n",
    "    with open('data/moviesTest.txt') as file:\n",
    "        for line in file:\n",
    "            k, v = line.strip().split('|')\n",
    "            movies[k.strip()] = v.strip()\n",
    "    return movies\n",
    "\n",
    "def create_actors_dict():\n",
    "    \"\"\"\n",
    "    opens actorsTest.txt (will later be changed to actors.txt) and creates a dictionary by parsing each line of the file,\n",
    "    returns a dictionary of actor ids and actor names\n",
    "    \"\"\"\n",
    "    actors = dict()\n",
    "    with open('data/actorsTest.txt') as file:\n",
    "        for line in file:\n",
    "            k, v = line.strip().split('|')\n",
    "            actors[k.strip()] = v.strip()\n",
    "    return actors \n",
    "\n",
    "\n",
    "def create_pairs_dict():\n",
    "    \"\"\"\n",
    "    opens movie-actorsTest.txt (will later be changed to movie-actors.txt) and parses the data, if the key doesn't exist, create a list at that index with the value\n",
    "    if it does exist in the dict, just append the value to that list\n",
    "    returns a dictionary made up movie ids, and a list of actor ids that star in that film\n",
    "    \"\"\"\n",
    "    pairs = dict()\n",
    "    with open('data/movie-actorsTest.txt') as file:\n",
    "        for line in file:\n",
    "            k, v = line.strip().split('|')\n",
    "            if k not in pairs:\n",
    "                pairs[k.strip()] = [v.strip()]\n",
    "            else:\n",
    "                pairs[k].append(v.strip())\n",
    "    return pairs \n",
    "\n",
    "actors = create_actors_dict()\n",
    "movies = create_movies_dict()\n",
    "pairs = create_pairs_dict()\n",
    "\n",
    "pairs\n",
    "            "
   ]
  },
  {
   "cell_type": "code",
   "execution_count": 8,
   "metadata": {},
   "outputs": [
    {
     "name": "stdout",
     "output_type": "stream",
     "text": [
      "10\n",
      "20\n",
      "30\n",
      "40\n",
      "50\n"
     ]
    }
   ],
   "source": [
    "for movie in movies:\n",
    "    print(movie)"
   ]
  },
  {
   "cell_type": "markdown",
   "metadata": {},
   "source": [
    "Pseudo code\n",
    "1. Movie-actors dictionary:\n",
    "    - movie <-> [list of actors]\n",
    "2. for each movie:\n",
    "    - find the actors based on the ids in the list in the pairs dict\n",
    "    - for actor 1 in list of actors\n",
    "        - for actor 2 in list of actors\n",
    "            - if actor1 != actor2:\n",
    "                - add actor 1 to graph\n",
    "                - add actor 2 to graph\n",
    "                - add edge (movie) between them"
   ]
  },
  {
   "cell_type": "code",
   "execution_count": 33,
   "metadata": {},
   "outputs": [],
   "source": [
    "class Vertex:\n",
    "    def __init__(self, actor_ID, actor_name, predecessor=None, distance=0):\n",
    "        self.actor_ID = actor_ID #this will take on the role of the key\n",
    "        self.name = actor_name\n",
    "        self.connected_to = dict()\n",
    "        self.distance = distance\n",
    "        self.predecessor = predecessor\n",
    "\n",
    "\n",
    "    def add_neighbor(self, neighbor, movie_name: str):\n",
    "        self.connected_to[neighbor] = movie_name\n",
    "\n",
    "    def get_connections(self):\n",
    "        return self.connected_to.keys()\n",
    "\n",
    "    def get_ID(self):\n",
    "        return self.actor_ID\n",
    "\n",
    "    def get_name(self):\n",
    "        return self.name\n",
    "\n",
    "    def get_movie(self, neighbor): #get_weight\n",
    "        return self.connected_to[neighbor]\n",
    "\n",
    "    def get_distance(self):\n",
    "        return self.distance \n",
    "    \n",
    "    def get_predecessor(self):\n",
    "        return self.predecessor \n",
    "\n",
    "    def set_distance(self, dist: int):\n",
    "        self.distance = dist\n",
    "\n",
    "    def set_predecessor(self, pred):\n",
    "        self.predecessor = pred\n",
    "\n",
    "    \n",
    "class Graph:\n",
    "    def __init__(self):\n",
    "        self.vert_list = dict()\n",
    "        self.movies = create_movies_dict()\n",
    "        self.actors = create_actors_dict()\n",
    "        self.pairs = create_pairs_dict()\n",
    "        self.num_vertices = 0\n",
    "\n",
    "    def add_vertex(self, id, distance=0, predecessor=None):\n",
    "        \"\"\"\n",
    "        given an actor id from the pairs dictionary\n",
    "        find actor name in actors dict\n",
    "        create vertex object with actor name, and ID\n",
    "        return the vertex\n",
    "        \"\"\"\n",
    "        self.num_vertices += 1\n",
    "        name = self.actors[id] # gives the name of the actor\n",
    "        new_vertex = Vertex(id, name, predecessor, distance)\n",
    "        self.vert_list[id] = new_vertex\n",
    "        return new_vertex\n",
    "\n",
    "    def __str__(self):\n",
    "        '''\n",
    "\n",
    "        '''\n",
    "        edges = \"\"\n",
    "        for vert in self.vert_list.values():\n",
    "            for vert2 in vert.get_connections():\n",
    "                edges += \"(%s, %s: %s)\\n\" %(vert.get_name(), vert2.get_name(), vert.get_movie(vert2))\n",
    "        return edges\n",
    "\n",
    "    def add_edge(self, actor1, actor2, movie_id):\n",
    "        \"\"\"\n",
    "        if actor1 and actor2 have a movie with the same id\n",
    "        make an edge with the weight equal to that movie id\n",
    "        \"\"\"\n",
    "        \"\"\"\n",
    "        if actor1.actor_id not in self.vert_list:\n",
    "            nv = self.add_vertex(actor1)\n",
    "        if actor2.actor_id not in self.vert_list:\n",
    "            nv = self.add_vertex(actor2)\n",
    "        \"\"\"\n",
    "        common_movie = self.movies[movie_id] #need to change this so it sets the edge weight to the name of the movie, not the id\n",
    "         #if the two actors have an edge they can use\n",
    "        self.vert_list[actor1.actor_ID].add_neighbor(self.vert_list[actor2.actor_ID], common_movie)\n",
    "\n",
    "    def get_vertex(self, id):\n",
    "        '''\n",
    "\n",
    "        '''\n",
    "        if id in self.vert_list:\n",
    "            return self.vert_list[id]\n",
    "        else:\n",
    "            return None\n",
    "\n",
    "\n",
    "    def build_graph(self):\n",
    "        \"\"\"\n",
    "        return each vertex\n",
    "        add edge between the two\n",
    "        \"\"\"\n",
    "        for movie in self.movies:\n",
    "            temp = []\n",
    "            for actor in self.pairs[movie]:\n",
    "                if actor not in self.vert_list: #if the actor id has not been added before\n",
    "                    v = self.add_vertex(actor, sys.maxsize, None)\n",
    "                else:\n",
    "                    v = self.get_vertex(actor)\n",
    "                temp.append(v)\n",
    "            for v in temp:\n",
    "                for i in range(len(temp)):\n",
    "                    if temp[i] != v:\n",
    "                        self.add_edge(v, temp[i], movie)\n",
    "                        self.add_edge(temp[i], v, movie)\n",
    "            \n",
    "\n"
   ]
  },
  {
   "cell_type": "code",
   "execution_count": 34,
   "metadata": {},
   "outputs": [
    {
     "name": "stdout",
     "output_type": "stream",
     "text": [
      "(Kevin Bacon, actor1: movie1)\n",
      "(Kevin Bacon, actor2: movie1)\n",
      "(actor1, Kevin Bacon: movie1)\n",
      "(actor1, actor2: movie1)\n",
      "(actor1, actor3: movie2)\n",
      "(actor2, Kevin Bacon: movie1)\n",
      "(actor2, actor1: movie1)\n",
      "(actor2, actor3: movie3)\n",
      "(actor3, actor1: movie2)\n",
      "(actor3, actor2: movie3)\n",
      "(actor3, actor4: movie4)\n",
      "(actor4, actor3: movie4)\n",
      "(actor5, actor6: movie5)\n",
      "(actor6, actor5: movie5)\n",
      "\n"
     ]
    }
   ],
   "source": [
    "g = Graph()\n",
    "g.build_graph()\n",
    "print(g)"
   ]
  },
  {
   "cell_type": "markdown",
   "metadata": {},
   "source": [
    "## Main game flow \n",
    "- create a vertex for every actor in actors.txt\n",
    "- add edges between all the vertices\n",
    "- prompt the user for an actor"
   ]
  }
 ],
 "metadata": {
  "interpreter": {
   "hash": "5effaac212c4d742dedc00b09a52cfe9f08c2a6087482c8e8046c630cf2b079b"
  },
  "kernelspec": {
   "display_name": "Python 3.8.12 ('base')",
   "language": "python",
   "name": "python3"
  },
  "language_info": {
   "codemirror_mode": {
    "name": "ipython",
    "version": 3
   },
   "file_extension": ".py",
   "mimetype": "text/x-python",
   "name": "python",
   "nbconvert_exporter": "python",
   "pygments_lexer": "ipython3",
   "version": "3.8.12"
  },
  "orig_nbformat": 4
 },
 "nbformat": 4,
 "nbformat_minor": 2
}
