{
 "cells": [
  {
   "cell_type": "markdown",
   "metadata": {},
   "source": [
    "# PA 6 - Kevin Bacon Game\n",
    "- Zach Fechko\n",
    "- Last Updated: April 18, 2022\n",
    "- Version 1.0\n",
    "- Description: Uses an unweighted graph to implement the kevin bacon game, connecting actors to kevin bacon through movies they star in"
   ]
  },
  {
   "cell_type": "code",
   "execution_count": 7,
   "metadata": {},
   "outputs": [],
   "source": [
    "import pandas as pd\n",
    "import matplotlib.pyplot as plt\n",
    "from rich.console import Console\n",
    "import graphviz as gv\n",
    "from collections import deque"
   ]
  },
  {
   "cell_type": "code",
   "execution_count": 2,
   "metadata": {},
   "outputs": [
    {
     "name": "stdout",
     "output_type": "stream",
     "text": [
      "{'Actor ID': 'Actor Name\\n', '1': 'Kevin Bacon\\n', '100': 'actor1\\n', '200': 'actor2\\n', '300': 'actor3\\n', '400': 'actor4\\n', '500': 'actor5\\n', '600': 'actor6'}\n"
     ]
    }
   ],
   "source": [
    "test = dict()\n",
    "with open(\"data/actorsTest.txt\") as file:\n",
    "    for line in file:\n",
    "        (key, value) = line.split('|')\n",
    "        test[key] = value\n",
    "\n",
    "print(test)"
   ]
  },
  {
   "cell_type": "code",
   "execution_count": 8,
   "metadata": {},
   "outputs": [
    {
     "data": {
      "text/html": [
       "<div>\n",
       "<style scoped>\n",
       "    .dataframe tbody tr th:only-of-type {\n",
       "        vertical-align: middle;\n",
       "    }\n",
       "\n",
       "    .dataframe tbody tr th {\n",
       "        vertical-align: top;\n",
       "    }\n",
       "\n",
       "    .dataframe thead th {\n",
       "        text-align: right;\n",
       "    }\n",
       "</style>\n",
       "<table border=\"1\" class=\"dataframe\">\n",
       "  <thead>\n",
       "    <tr style=\"text-align: right;\">\n",
       "      <th></th>\n",
       "      <th>Movie ID</th>\n",
       "      <th>Movie Name</th>\n",
       "    </tr>\n",
       "  </thead>\n",
       "  <tbody>\n",
       "    <tr>\n",
       "      <th>0</th>\n",
       "      <td>10</td>\n",
       "      <td>movie1</td>\n",
       "    </tr>\n",
       "    <tr>\n",
       "      <th>1</th>\n",
       "      <td>20</td>\n",
       "      <td>movie2</td>\n",
       "    </tr>\n",
       "    <tr>\n",
       "      <th>2</th>\n",
       "      <td>30</td>\n",
       "      <td>movie3</td>\n",
       "    </tr>\n",
       "    <tr>\n",
       "      <th>3</th>\n",
       "      <td>40</td>\n",
       "      <td>movie4</td>\n",
       "    </tr>\n",
       "    <tr>\n",
       "      <th>4</th>\n",
       "      <td>50</td>\n",
       "      <td>movie5</td>\n",
       "    </tr>\n",
       "  </tbody>\n",
       "</table>\n",
       "</div>"
      ],
      "text/plain": [
       "   Movie ID Movie Name\n",
       "0        10     movie1\n",
       "1        20     movie2\n",
       "2        30     movie3\n",
       "3        40     movie4\n",
       "4        50     movie5"
      ]
     },
     "execution_count": 8,
     "metadata": {},
     "output_type": "execute_result"
    }
   ],
   "source": [
    "movies = pd.read_csv('data/moviesTest.txt', sep='|', index_col=False)\n",
    "movies"
   ]
  },
  {
   "cell_type": "code",
   "execution_count": 9,
   "metadata": {},
   "outputs": [
    {
     "data": {
      "text/html": [
       "<div>\n",
       "<style scoped>\n",
       "    .dataframe tbody tr th:only-of-type {\n",
       "        vertical-align: middle;\n",
       "    }\n",
       "\n",
       "    .dataframe tbody tr th {\n",
       "        vertical-align: top;\n",
       "    }\n",
       "\n",
       "    .dataframe thead th {\n",
       "        text-align: right;\n",
       "    }\n",
       "</style>\n",
       "<table border=\"1\" class=\"dataframe\">\n",
       "  <thead>\n",
       "    <tr style=\"text-align: right;\">\n",
       "      <th></th>\n",
       "      <th>Actor ID</th>\n",
       "      <th>Actor Name</th>\n",
       "    </tr>\n",
       "  </thead>\n",
       "  <tbody>\n",
       "    <tr>\n",
       "      <th>0</th>\n",
       "      <td>1</td>\n",
       "      <td>Kevin Bacon</td>\n",
       "    </tr>\n",
       "    <tr>\n",
       "      <th>1</th>\n",
       "      <td>100</td>\n",
       "      <td>actor1</td>\n",
       "    </tr>\n",
       "    <tr>\n",
       "      <th>2</th>\n",
       "      <td>200</td>\n",
       "      <td>actor2</td>\n",
       "    </tr>\n",
       "    <tr>\n",
       "      <th>3</th>\n",
       "      <td>300</td>\n",
       "      <td>actor3</td>\n",
       "    </tr>\n",
       "    <tr>\n",
       "      <th>4</th>\n",
       "      <td>400</td>\n",
       "      <td>actor4</td>\n",
       "    </tr>\n",
       "    <tr>\n",
       "      <th>5</th>\n",
       "      <td>500</td>\n",
       "      <td>actor5</td>\n",
       "    </tr>\n",
       "    <tr>\n",
       "      <th>6</th>\n",
       "      <td>600</td>\n",
       "      <td>actor6</td>\n",
       "    </tr>\n",
       "  </tbody>\n",
       "</table>\n",
       "</div>"
      ],
      "text/plain": [
       "   Actor ID   Actor Name\n",
       "0         1  Kevin Bacon\n",
       "1       100       actor1\n",
       "2       200       actor2\n",
       "3       300       actor3\n",
       "4       400       actor4\n",
       "5       500       actor5\n",
       "6       600       actor6"
      ]
     },
     "execution_count": 9,
     "metadata": {},
     "output_type": "execute_result"
    }
   ],
   "source": [
    "actors = pd.read_csv('data/actorsTest.txt', sep='|')\n",
    "actors"
   ]
  },
  {
   "cell_type": "code",
   "execution_count": 17,
   "metadata": {},
   "outputs": [
    {
     "name": "stdout",
     "output_type": "stream",
     "text": [
      "False\n"
     ]
    }
   ],
   "source": [
    "print('actor8' in actors)"
   ]
  },
  {
   "cell_type": "markdown",
   "metadata": {},
   "source": [
    "Pseudo code\n",
    "1. Movie-actors dictionary:\n",
    "    - movie <-> [list of actors]\n",
    "2. for each movie:\n",
    "    - for actor 1 in list of actors\n",
    "        - for actor 2 in list of actors\n",
    "            - if actor1 != actor2:\n",
    "                - add actor 1 to graph\n",
    "                - add actor 2 to graph\n",
    "                - add edge (movie) between them"
   ]
  },
  {
   "cell_type": "code",
   "execution_count": 10,
   "metadata": {},
   "outputs": [
    {
     "data": {
      "text/html": [
       "<div>\n",
       "<style scoped>\n",
       "    .dataframe tbody tr th:only-of-type {\n",
       "        vertical-align: middle;\n",
       "    }\n",
       "\n",
       "    .dataframe tbody tr th {\n",
       "        vertical-align: top;\n",
       "    }\n",
       "\n",
       "    .dataframe thead th {\n",
       "        text-align: right;\n",
       "    }\n",
       "</style>\n",
       "<table border=\"1\" class=\"dataframe\">\n",
       "  <thead>\n",
       "    <tr style=\"text-align: right;\">\n",
       "      <th></th>\n",
       "      <th>Movie ID</th>\n",
       "      <th>Actor ID</th>\n",
       "    </tr>\n",
       "  </thead>\n",
       "  <tbody>\n",
       "    <tr>\n",
       "      <th>0</th>\n",
       "      <td>10</td>\n",
       "      <td>1</td>\n",
       "    </tr>\n",
       "    <tr>\n",
       "      <th>1</th>\n",
       "      <td>10</td>\n",
       "      <td>100</td>\n",
       "    </tr>\n",
       "    <tr>\n",
       "      <th>2</th>\n",
       "      <td>10</td>\n",
       "      <td>200</td>\n",
       "    </tr>\n",
       "    <tr>\n",
       "      <th>3</th>\n",
       "      <td>20</td>\n",
       "      <td>100</td>\n",
       "    </tr>\n",
       "    <tr>\n",
       "      <th>4</th>\n",
       "      <td>20</td>\n",
       "      <td>300</td>\n",
       "    </tr>\n",
       "    <tr>\n",
       "      <th>5</th>\n",
       "      <td>30</td>\n",
       "      <td>300</td>\n",
       "    </tr>\n",
       "    <tr>\n",
       "      <th>6</th>\n",
       "      <td>30</td>\n",
       "      <td>200</td>\n",
       "    </tr>\n",
       "    <tr>\n",
       "      <th>7</th>\n",
       "      <td>40</td>\n",
       "      <td>300</td>\n",
       "    </tr>\n",
       "    <tr>\n",
       "      <th>8</th>\n",
       "      <td>40</td>\n",
       "      <td>400</td>\n",
       "    </tr>\n",
       "    <tr>\n",
       "      <th>9</th>\n",
       "      <td>50</td>\n",
       "      <td>500</td>\n",
       "    </tr>\n",
       "    <tr>\n",
       "      <th>10</th>\n",
       "      <td>50</td>\n",
       "      <td>600</td>\n",
       "    </tr>\n",
       "  </tbody>\n",
       "</table>\n",
       "</div>"
      ],
      "text/plain": [
       "    Movie ID  Actor ID\n",
       "0         10         1\n",
       "1         10       100\n",
       "2         10       200\n",
       "3         20       100\n",
       "4         20       300\n",
       "5         30       300\n",
       "6         30       200\n",
       "7         40       300\n",
       "8         40       400\n",
       "9         50       500\n",
       "10        50       600"
      ]
     },
     "execution_count": 10,
     "metadata": {},
     "output_type": "execute_result"
    }
   ],
   "source": [
    "movie_actor_pairs = pd.read_csv('data/movie-actorsTest.txt', sep='|')\n",
    "movie_actor_pairs"
   ]
  },
  {
   "cell_type": "code",
   "execution_count": 11,
   "metadata": {},
   "outputs": [
    {
     "name": "stdout",
     "output_type": "stream",
     "text": [
      "20\n",
      "30\n",
      "40\n"
     ]
    }
   ],
   "source": [
    "# This is for seeing how to look through the dataframe to find a certain value\n",
    "for row in range(len(movie_actor_pairs)):\n",
    "    if movie_actor_pairs.iloc[row]['Actor ID'] == 300:\n",
    "        print(movie_actor_pairs.iloc[row]['Movie ID'])\n"
   ]
  },
  {
   "cell_type": "code",
   "execution_count": 13,
   "metadata": {},
   "outputs": [],
   "source": [
    "class Vertex:\n",
    "    def __init__(self, actor_ID, actor_name):\n",
    "        self.actor_ID = actor_ID #this will take on the role of the key\n",
    "        self.name = actor_name\n",
    "        self.stars_in = [] #list of movie ids to connect actors\n",
    "        self.connected_to = dict()\n",
    "\n",
    "    def add_neighbor(self, neighbor, movie_id=0):\n",
    "        self.connected_to[neighbor] = movie_id\n",
    "\n",
    "class Graph:\n",
    "    def __init__(self):\n",
    "        self.vert_list = dict()\n",
    "        self.num_vertices = 0\n",
    "\n",
    "    def add_vertex(self, id, name, df):\n",
    "        \"\"\"\n",
    "        create a vertex item using id and name (don't need to check because this will be inserted by interating through a df)\n",
    "        iterate through the movie actor pairs\n",
    "        if the movie has an actor id that matches the current actor\n",
    "        append the movie ids to the stars_in list\n",
    "        \"\"\"\n",
    "        self.num_vertices += 1\n",
    "        new_vertex = Vertex(id, name)\n",
    "        for row in range(len(df)): #this will be the movie-actor pair df\n",
    "            if df.iloc[row]['Actor ID'] == new_vertex.actor_ID:\n",
    "                new_vertex.stars_in.append(df.iloc[row]['Movie ID'])\n",
    "        self.vert_list[id] = new_vertex\n",
    "        return new_vertex\n",
    "\n",
    "    def add_edge(self, actor1, actor2):\n",
    "        \"\"\"\n",
    "        if actor1 and actor2 have a movie with the same id\n",
    "        make an edge with the weight equal to that movie id\n",
    "        \"\"\"\n",
    "        if actor1.actor_id not in self.vert_list:\n",
    "            nv = self.add_vertex(actor1)\n",
    "        if actor2.actor_id not in self.vert_list:\n",
    "            nv = self.add_vertex(actor2)\n",
    "        common_movie = find_common(actor1, actor2, movies) #need to change this so it sets the edge weight to the name of the movie, not the id\n",
    "        if common_movie: #if the two actors have an edge they can use\n",
    "            self.vert_list[actor1].add_neighbor(self.vert_list[actor2], common_movie)\n",
    "\n"
   ]
  },
  {
   "cell_type": "code",
   "execution_count": 15,
   "metadata": {},
   "outputs": [],
   "source": [
    "def find_common(v1: Vertex, v2: Vertex, df: pd.DataFrame):\n",
    "    \"\"\"\n",
    "    Takes 2 vertices and the movies dataframe as arguments, iterates through v1's stars_in list to see if it has any common movie ids with v2\n",
    "    returns the movie title if it exists, returns 0 if it doesn't\n",
    "    \"\"\"\n",
    "    for value in v1.stars_in:\n",
    "        if value in v2.stars_in:\n",
    "            return df.iloc[value]['Movie Name'] #return the movie name\n",
    "    return None"
   ]
  },
  {
   "cell_type": "markdown",
   "metadata": {},
   "source": [
    "## Main game flow \n",
    "- create a vertex for every actor in actors.txt\n",
    "- add edges between all the vertices\n",
    "- prompt the user for an actor"
   ]
  }
 ],
 "metadata": {
  "interpreter": {
   "hash": "5effaac212c4d742dedc00b09a52cfe9f08c2a6087482c8e8046c630cf2b079b"
  },
  "kernelspec": {
   "display_name": "Python 3.8.12 ('base')",
   "language": "python",
   "name": "python3"
  },
  "language_info": {
   "codemirror_mode": {
    "name": "ipython",
    "version": 3
   },
   "file_extension": ".py",
   "mimetype": "text/x-python",
   "name": "python",
   "nbconvert_exporter": "python",
   "pygments_lexer": "ipython3",
   "version": "3.8.12"
  },
  "orig_nbformat": 4
 },
 "nbformat": 4,
 "nbformat_minor": 2
}
