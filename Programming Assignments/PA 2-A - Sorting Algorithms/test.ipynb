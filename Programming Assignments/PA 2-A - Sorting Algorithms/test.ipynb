{
 "cells": [
  {
   "cell_type": "code",
   "execution_count": 1,
   "metadata": {},
   "outputs": [
    {
     "name": "stdout",
     "output_type": "stream",
     "text": [
      "                        Runtime_selection  Data Comparisons_selection  \\\n",
      "List Size                                                               \n",
      "Ascending Sorted 250             0.005016                           0   \n",
      "Descending Sorted 250            0.000000                         249   \n",
      "Random Order 250                 0.000000                          15   \n",
      "Ascending Sorted 500             0.024906                           0   \n",
      "Descending Sorted 500            0.000000                         499   \n",
      "Random Order 500                 0.000996                          23   \n",
      "Ascending Sorted 1000            0.083776                           0   \n",
      "Descending Sorted 1000           0.000000                         999   \n",
      "Random Order 1000                0.000998                          25   \n",
      "\n",
      "                        Data Swaps_selection  Runtime_insertion  \\\n",
      "List Size                                                         \n",
      "Ascending Sorted 250                       0           0.000000   \n",
      "Descending Sorted 250                      1           0.024965   \n",
      "Random Order 250                           4           0.011935   \n",
      "Ascending Sorted 500                       0           0.000998   \n",
      "Descending Sorted 500                      1           0.113731   \n",
      "Random Order 500                           6           0.048866   \n",
      "Ascending Sorted 1000                      0           0.000997   \n",
      "Descending Sorted 1000                     1           0.421899   \n",
      "Random Order 1000                          8           0.207455   \n",
      "\n",
      "                        Data Comparisons_insertion  Data Swaps_insertion  \\\n",
      "List Size                                                                  \n",
      "Ascending Sorted 250                             0                     0   \n",
      "Descending Sorted 250                        31125                 31125   \n",
      "Random Order 250                             15968                 15968   \n",
      "Ascending Sorted 500                             0                     0   \n",
      "Descending Sorted 500                       124750                124750   \n",
      "Random Order 500                             62088                 62088   \n",
      "Ascending Sorted 1000                            0                     0   \n",
      "Descending Sorted 1000                      499500                499500   \n",
      "Random Order 1000                           245061                245061   \n",
      "\n",
      "                        Runtime_bubble  Data Comparisons_bubble  \\\n",
      "List Size                                                         \n",
      "Ascending Sorted 250          0.000998                      249   \n",
      "Descending Sorted 250         0.024933                    31125   \n",
      "Random Order 250              0.016991                    31005   \n",
      "Ascending Sorted 500          0.000000                      499   \n",
      "Descending Sorted 500         0.125664                   124750   \n",
      "Random Order 500              0.093755                   124614   \n",
      "Ascending Sorted 1000         0.000000                      999   \n",
      "Descending Sorted 1000        0.432839                   499500   \n",
      "Random Order 1000             0.296213                   499035   \n",
      "\n",
      "                        Data Swaps_bubble  \n",
      "List Size                                  \n",
      "Ascending Sorted 250                    0  \n",
      "Descending Sorted 250               31125  \n",
      "Random Order 250                    15968  \n",
      "Ascending Sorted 500                    0  \n",
      "Descending Sorted 500              124750  \n",
      "Random Order 500                    62088  \n",
      "Ascending Sorted 1000                   0  \n",
      "Descending Sorted 1000             499500  \n",
      "Random Order 1000                  245061  \n"
     ]
    }
   ],
   "source": [
    "import Sorting_Algorithms as sort\n",
    "#this is for verifying the output of dataframes"
   ]
  },
  {
   "cell_type": "code",
   "execution_count": 2,
   "metadata": {},
   "outputs": [
    {
     "name": "stdout",
     "output_type": "stream",
     "text": [
      "                        Runtime_selection  Data Comparisons_selection  \\\n",
      "List Size                                                               \n",
      "Ascending Sorted 250             0.006980                           0   \n",
      "Descending Sorted 250            0.000000                         249   \n",
      "Random Order 250                 0.000997                          20   \n",
      "Ascending Sorted 500             0.036865                           0   \n",
      "Descending Sorted 500            0.000000                         499   \n",
      "Random Order 500                 0.000000                          36   \n",
      "Ascending Sorted 1000            0.081814                           0   \n",
      "Descending Sorted 1000           0.000000                         999   \n",
      "Random Order 1000                0.001001                          40   \n",
      "\n",
      "                        Data Swaps_selection  Runtime_insertion  \\\n",
      "List Size                                                         \n",
      "Ascending Sorted 250                       0           0.000000   \n",
      "Descending Sorted 250                      1           0.029952   \n",
      "Random Order 250                           6           0.015957   \n",
      "Ascending Sorted 500                       0           0.000000   \n",
      "Descending Sorted 500                      1           0.107739   \n",
      "Random Order 500                           7           0.052860   \n",
      "Ascending Sorted 1000                      0           0.000000   \n",
      "Descending Sorted 1000                     1           0.419879   \n",
      "Random Order 1000                          6           0.196439   \n",
      "\n",
      "                        Data Comparisons_insertion  Data Swaps_insertion  \\\n",
      "List Size                                                                  \n",
      "Ascending Sorted 250                             0                     0   \n",
      "Descending Sorted 250                        31125                 31125   \n",
      "Random Order 250                             16138                 16138   \n",
      "Ascending Sorted 500                             0                     0   \n",
      "Descending Sorted 500                       124750                124750   \n",
      "Random Order 500                             61505                 61505   \n",
      "Ascending Sorted 1000                            0                     0   \n",
      "Descending Sorted 1000                      499500                499500   \n",
      "Random Order 1000                           240373                240373   \n",
      "\n",
      "                        Runtime_bubble  Data Comparisons_bubble  \\\n",
      "List Size                                                         \n",
      "Ascending Sorted 250          0.000993                      249   \n",
      "Descending Sorted 250         0.061831                    31125   \n",
      "Random Order 250              0.021970                    31020   \n",
      "Ascending Sorted 500          0.000000                      499   \n",
      "Descending Sorted 500         0.109708                   124750   \n",
      "Random Order 500              0.077821                   124614   \n",
      "Ascending Sorted 1000         0.000998                      999   \n",
      "Descending Sorted 1000        0.477750                   499500   \n",
      "Random Order 1000             0.267257                   498510   \n",
      "\n",
      "                        Data Swaps_bubble  \n",
      "List Size                                  \n",
      "Ascending Sorted 250                    0  \n",
      "Descending Sorted 250               31125  \n",
      "Random Order 250                    16138  \n",
      "Ascending Sorted 500                    0  \n",
      "Descending Sorted 500              124750  \n",
      "Random Order 500                    61505  \n",
      "Ascending Sorted 1000                   0  \n",
      "Descending Sorted 1000             499500  \n",
      "Random Order 1000                  240373  \n"
     ]
    }
   ],
   "source": [
    "sort.main()"
   ]
  },
  {
   "cell_type": "code",
   "execution_count": 11,
   "metadata": {},
   "outputs": [],
   "source": []
  },
  {
   "cell_type": "code",
   "execution_count": null,
   "metadata": {},
   "outputs": [],
   "source": []
  }
 ],
 "metadata": {
  "interpreter": {
   "hash": "5effaac212c4d742dedc00b09a52cfe9f08c2a6087482c8e8046c630cf2b079b"
  },
  "kernelspec": {
   "display_name": "Python 3.8.12 ('base')",
   "language": "python",
   "name": "python3"
  },
  "language_info": {
   "codemirror_mode": {
    "name": "ipython",
    "version": 3
   },
   "file_extension": ".py",
   "mimetype": "text/x-python",
   "name": "python",
   "nbconvert_exporter": "python",
   "pygments_lexer": "ipython3",
   "version": "3.8.12"
  },
  "orig_nbformat": 4
 },
 "nbformat": 4,
 "nbformat_minor": 2
}
