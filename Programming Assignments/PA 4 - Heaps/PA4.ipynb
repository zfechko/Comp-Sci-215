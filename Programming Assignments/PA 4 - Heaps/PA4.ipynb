{
 "cells": [
  {
   "cell_type": "markdown",
   "metadata": {},
   "source": [
    "# PA 4 - Heaps\n",
    "Zach Fechko <br>\n",
    "Version: 1.0 <br>\n",
    "Last Updated: March 29, 2022 <br>\n",
    "\n",
    "Description: Implementation of a Binary Max Heap and Ternary Max Heap"
   ]
  },
  {
   "cell_type": "code",
   "execution_count": 1,
   "metadata": {},
   "outputs": [],
   "source": [
    "# imports to be used later in the assignment\n",
    "import graphviz as gv\n",
    "import numpy.random as rand"
   ]
  },
  {
   "cell_type": "code",
   "execution_count": 2,
   "metadata": {},
   "outputs": [],
   "source": [
    "class BinaryMaxHeap:\n",
    "    def __init__(self):\n",
    "        self.heap_list = [0]\n",
    "        self.size = 0"
   ]
  },
  {
   "cell_type": "code",
   "execution_count": 3,
   "metadata": {},
   "outputs": [],
   "source": [
    "class TernaryMaxHeap:\n",
    "    def __init__(self):\n",
    "        self.heap_list = [0]\n",
    "        self.size = 0"
   ]
  }
 ],
 "metadata": {
  "interpreter": {
   "hash": "5effaac212c4d742dedc00b09a52cfe9f08c2a6087482c8e8046c630cf2b079b"
  },
  "kernelspec": {
   "display_name": "Python 3.8.12 ('base')",
   "language": "python",
   "name": "python3"
  },
  "language_info": {
   "codemirror_mode": {
    "name": "ipython",
    "version": 3
   },
   "file_extension": ".py",
   "mimetype": "text/x-python",
   "name": "python",
   "nbconvert_exporter": "python",
   "pygments_lexer": "ipython3",
   "version": "3.8.12"
  },
  "orig_nbformat": 4
 },
 "nbformat": 4,
 "nbformat_minor": 2
}
