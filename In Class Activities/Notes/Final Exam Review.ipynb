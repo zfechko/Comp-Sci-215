{
 "cells": [
  {
   "cell_type": "markdown",
   "metadata": {},
   "source": [
    "# Final Exam Review\n",
    "\n",
    "## Topics Covered\n",
    "- Everything we covered during lectures and assignments except Python packages\n",
    "- Python basics\n"
   ]
  }
 ],
 "metadata": {
  "language_info": {
   "name": "python"
  },
  "orig_nbformat": 4
 },
 "nbformat": 4,
 "nbformat_minor": 2
}
