{
 "cells": [
  {
   "cell_type": "markdown",
   "metadata": {},
   "source": [
    "# Final Exam Review\n",
    "\n",
    "## Topics Covered\n",
    "- Everything we covered during lectures and assignments except Python packages\n",
    "- Python basics\n",
    "- Hashing\n",
    "- Algorithm Analysis\n",
    "    - What is algorithm analysis?\n",
    "    - Time vs space complexity\n",
    "    - Big o Notation\n",
    "- Sorting Algorithms\n",
    "- Data Structures \n",
    "- Trees\n",
    "- Graphs\n"
   ]
  },
  {
   "cell_type": "markdown",
   "metadata": {},
   "source": [
    "\n",
    "## Hashing <a class=\"anchor\" id=\"Hashing\"></a>\n",
    "Mapping of a key to its unique slot position (hash value), that is, there is a function $f$ , such that $f(\\text{key}) = \\text{hashvalue}$\n",
    "\n",
    "**Types of hash methods**\n",
    "- Truncation\n",
    "- Folding\n",
    "- Radix Conversion\n",
    "- Remainder method (the method we covered in class)\n",
    "\n",
    "**Why use hashing?**\n",
    "- Hashing allows for really fast <mark style='background-color:green'>$O(1)$</mark> data insertion and searching due to each element having a unique hash value\n",
    "\n",
    "**When is hashing appropriate?**\n",
    "- When we don't care about the order that the data is in\n",
    "- When we want an alternative to a sorted binary search\n",
    "\n",
    "**What is a collision?**\n",
    "- A collision is when two or more elements have the same hashvalue despite having different data\n",
    "- *How do you handle a collision*\n",
    "    - Linear Probing: Find the next available slot if you can\n",
    "    - Chaining: Have a list or a linked list at each slot in the hashtable/map and append to it\n",
    "\n",
    "**How can you make hashing better?**\n",
    "- Larger hash table size\n",
    "- Have the size of the hash table/map be a prime number"
   ]
  },
  {
   "cell_type": "markdown",
   "metadata": {},
   "source": [
    "## Algorithm Analysis\n",
    "- **Time Complexity**: The amount of time an algorithm takes based on the size of its inputs\n",
    "- **Space Complexity**: The amount of memory an algorithm takes up based on the size of its inputs\n",
    "\n",
    "<img src='../images/bigo.png' style='height:50%;width:50%'>\n",
    "\n",
    "### Sorting Algorithm Complexities\n",
    "Operation | Best Time | Average Time | Worst Time | Space\n",
    "----- | ----- | ----- | -----| -----\n",
    "Bubble Sort | <mark>$O(n)$</mark> | <mark style='background-color:salmon'>$O(n^{2})$</mark> | <mark style='background-color:salmon'>$O(n^{2})$</mark> |  <mark style='background-color:green'>$O(1)$</mark>\n",
    "Insertion Sort | <mark>$O(n)$</mark> | <mark style='background-color:salmon'>$O(n^{2})$</mark> | <mark style='background-color:salmon'>$O(n^{2})$</mark> |  <mark style='background-color:green'>$O(1)$</mark>\n",
    "Selection Sort | <mark style='background-color:salmon'>$O(n^{2})$</mark> | <mark style='background-color:salmon'>$O(n^{2})$</mark> | <mark style='background-color:salmon'>$O(n^{2})$</mark> |  <mark style='background-color:green'>$O(1)$</mark>\n",
    "Shell Sort | <mark style='background-color:orange'>$O(nlog(n))$</mark> | <mark style='background-color:salmon'>$O(n(log(n))^{2})$</mark> | <mark style='background-color:salmon'>$O(n(log(n))^{2})$</mark> |  <mark style='background-color:green'>$O(1)$</mark>\n",
    "Heap Sort | <mark style='background-color:orange'>$O(nlog(n))$</mark> | <mark style='background-color:orange'>$O(nlog(n))$</mark> | <mark style='background-color:orange'>$O(nlog(n))$</mark> |  <mark style='background-color:green'>$O(1)$</mark>\n",
    "Merge Sort | <mark style='background-color:orange'>$O(nlog(n))$</mark> | <mark style='background-color:orange'>$O(nlog(n))$</mark> | <mark style='background-color:orange'>$O(nlog(n))$</mark> | <mark>$O(n)$</mark>\n",
    "Quick Sort | <mark style='background-color:orange'>$O(nlog(n))$</mark> | <mark style='background-color:orange'>$O(nlog(n))$</mark> | <mark style='background-color:salmon'>$O(n^{2})$</mark> | <mark style='background-color:lime'>$O(log(n))$</mark>"
   ]
  },
  {
   "cell_type": "markdown",
   "metadata": {},
   "source": [
    "### Data Structure Operations\n",
    "Structure | Average Access | Average Search | Average Insertion | Average Deletion\n",
    "----- | ----- | ----- | ----- | -----\n",
    "Linked List | <mark>$O(n)$</mark> | <mark>$O(n)$</mark> | can be either <mark>$O(n)$</mark> or <mark style='background-color:green'>$O(1)$ | can be either <mark>$O(n)$</mark> or <mark style='background-color:green'>$O(1)$\n",
    "Stack | <mark>$O(n)$</mark> | <mark>$O(n)$</mark> | <mark style='background-color:green'>$O(1)$ | <mark style='background-color:green'>$O(1)$</mark>\n",
    "Queue | <mark>$O(n)$</mark> | <mark>$O(n)$</mark> | <mark style='background-color:green'>$O(1)$ | <mark style='background-color:green'>$O(1)$</mark>\n",
    "Binary Search Tree | <mark style='background-color:lime'>$O(log(n))$</mark> | <mark style='background-color:lime'>$O(log(n))$</mark> | <mark style='background-color:lime'>$O(log(n))$</mark> | <mark style='background-color:lime'>$O(log(n))$</mark>\n",
    "AVL Tree | <mark style='background-color:lime'>$O(log(n))$</mark> | <mark style='background-color:lime'>$O(log(n))$</mark> | <mark style='background-color:lime'>$O(log(n))$</mark> | <mark style='background-color:lime'>$O(log(n))$</mark>\n",
    "HashTable/HashMap | <mark style='background-color:grey'>N/A | <mark style='background-color:green'>$O(1)$ | <mark style='background-color:green'>$O(1)$ | <mark style='background-color:green'>$O(1)$\n",
    "Binary Heap | $O(1)$ | $O(n)$ | <mark style='background-color:lime'>$O(log(n))$</mark> | <mark style='background-color:lime'>$O(log(n))$</mark>\n",
    "\n",
    "**Note** A Binary search tree can have a worst case time of <mark>$O(n)$</mark> if all the nodes are arranged in a line. Tree operations can also be represented as $O(h)$ where $h$ is the height of the tree\n",
    "\n",
    "### Search Time Complexities\n",
    "Method | Average Time Complexity\n",
    "----- | -----\n",
    "Linear Search | <mark>$O(n)$</mark>\n",
    "Iterative Binary Search | <mark style='background-color:lime'>$O(log(n))$\n",
    "Recursive Binary Search | <mark style='background-color:lime'>$O(log_{2}(n))$</mark>"
   ]
  },
  {
   "cell_type": "markdown",
   "metadata": {},
   "source": [
    "## Sorting Algorithms\n",
    "\n",
    "### Selection Sort\n",
    "Selection sort sorts an array by repeatedly finding the minimum element (considering sorting in ascending order) from unsorted part and putting it at the beginning. The algorithm maintains two subarrays, a sorted array, and an unsorted array. Each iteration, the minimum element from the unsorted array is picked and moved to the sorted array."
   ]
  },
  {
   "cell_type": "code",
   "execution_count": 2,
   "metadata": {},
   "outputs": [
    {
     "name": "stdout",
     "output_type": "stream",
     "text": [
      "[5, 6, 11, 12, 13]\n"
     ]
    }
   ],
   "source": [
    "def selection_sort(list):\n",
    "    for i in range(len(list)):\n",
    "        min = i\n",
    "        for j in range(i + 1, len(list)):\n",
    "            if list[min] > list[j]:\n",
    "                min = j\n",
    "        list[i], list[min] = list[min], list[i]\n",
    "\n",
    "arr = [12, 11, 13, 5, 6]\n",
    "selection_sort(arr)\n",
    "print(arr)"
   ]
  },
  {
   "cell_type": "markdown",
   "metadata": {},
   "source": [
    "\n",
    "### Bubble Sort\n",
    "Bubble sort is the simplest sorting algorithm that works by repeatedly swapping adjacent elements if one is greater than the other"
   ]
  },
  {
   "cell_type": "code",
   "execution_count": 4,
   "metadata": {},
   "outputs": [
    {
     "name": "stdout",
     "output_type": "stream",
     "text": [
      "[5, 6, 11, 12, 13]\n"
     ]
    }
   ],
   "source": [
    "def bubble_sort(list):\n",
    "    for i in range(len(list)):\n",
    "        for j in range(len(list)):\n",
    "            if list[i] < list[j]:\n",
    "                list[i], list[j] = list[j], list[i]\n",
    "\n",
    "arr = [12, 11, 13, 5, 6]\n",
    "bubble_sort(arr)\n",
    "print(arr)"
   ]
  },
  {
   "cell_type": "markdown",
   "metadata": {},
   "source": [
    "\n",
    "### Insertion Sort\n",
    "Insertion sort virtually splits an array into a sorted and unsorted part (it doesn't actually do any splitting). Values from the unsorted part are picked and put into the correct position in the sorted part\n",
    "#### Algorithm\n",
    "To sort an array of size `n`\n",
    "1. Iterate from `array[1]` to `array[n]` over the array\n",
    "2. Compare the current element to its predecessor\n",
    "3. If the key is smaller than its predecessor, compare it to the elements before, move the greater elements one position up to make space for the swapped element\n"
   ]
  },
  {
   "cell_type": "code",
   "execution_count": 1,
   "metadata": {},
   "outputs": [
    {
     "name": "stdout",
     "output_type": "stream",
     "text": [
      "[5, 6, 11, 12, 13]\n"
     ]
    }
   ],
   "source": [
    "def insertion_sort(list):\n",
    "    for i in range(1, len(list)):\n",
    "        key = list[i]\n",
    "        j = i - 1\n",
    "        while j >= 0 and key < list[j]:\n",
    "            list[j + 1] = list[j]\n",
    "            j -= 1\n",
    "        list[j + 1] = key\n",
    "\n",
    "arr = [12, 11, 13, 5, 6]\n",
    "insertion_sort(arr)\n",
    "print(arr)"
   ]
  },
  {
   "cell_type": "markdown",
   "metadata": {},
   "source": [
    "### Shell Sort\n",
    "Shell sort is mainly a variation of insertion sort. In shell sort we make the array h-sorted for a large value of h. We keep reducing the value of h until it becomes 1. An array is said the be h-sorted if all sublists of every h'th element is sorted."
   ]
  },
  {
   "cell_type": "code",
   "execution_count": 5,
   "metadata": {},
   "outputs": [
    {
     "data": {
      "text/plain": [
       "[5, 6, 11, 12, 13]"
      ]
     },
     "execution_count": 5,
     "metadata": {},
     "output_type": "execute_result"
    }
   ],
   "source": [
    "def shell_sort(list):\n",
    "    gap = len(list) // 2\n",
    "    while gap > 0:\n",
    "        i = 0\n",
    "        j = gap \n",
    "        while j < len(list):\n",
    "            if list[i] > list[j]:\n",
    "                list[i], list[j] = list[j], list[i]\n",
    "\n",
    "            i += 1\n",
    "            j += 1\n",
    "\n",
    "            k = i \n",
    "            while k - gap > -1:\n",
    "                if list[k - gap] > list[k]:\n",
    "                    list[k-gap], list[k] = list[k], list[k - gap]\n",
    "                k -= 1\n",
    "        gap //= 2\n",
    "\n",
    "arr = [12, 11, 13, 5, 6]\n",
    "shell_sort(arr)\n",
    "arr"
   ]
  },
  {
   "cell_type": "markdown",
   "metadata": {},
   "source": [
    "### Merge Sort\n",
    "Merge sort is a divide and conquer algorithm, where it splits the list and all sublists in half and merges/sorts the two halves"
   ]
  },
  {
   "cell_type": "code",
   "execution_count": 12,
   "metadata": {},
   "outputs": [
    {
     "data": {
      "text/plain": [
       "[5, 6, 11, 12, 13]"
      ]
     },
     "execution_count": 12,
     "metadata": {},
     "output_type": "execute_result"
    }
   ],
   "source": [
    "def merge_sort(list):\n",
    "    if len(list) <= 1:\n",
    "        return\n",
    "\n",
    "    mid = len(list) // 2\n",
    "\n",
    "    left = list[:mid].copy()\n",
    "    right = list[mid:].copy()\n",
    "    merge_sort(left)\n",
    "    merge_sort(right)\n",
    "    merge(list, left, right)\n",
    "\n",
    "def merge(array, left_half, right_half):\n",
    "    i = 0\n",
    "    j = 0\n",
    "    k = 0\n",
    "    while i < len(left_half) and j < len(right_half):\n",
    "        if left_half[i] < right_half[j]:\n",
    "            array[k] = left_half[i]\n",
    "            i += 1\n",
    "        else:\n",
    "            array[k] = right_half[j]\n",
    "            j += 1\n",
    "        k += 1\n",
    "    while i < len(left_half):\n",
    "        array[k] = left_half[i]\n",
    "        i += 1\n",
    "        k += 1\n",
    "    while j < len(right_half):\n",
    "        array[k] = right_half[j]\n",
    "        j += 1\n",
    "        k += 1\n",
    "\n",
    "arr = [12, 11, 13, 5, 6]\n",
    "merge_sort(arr)\n",
    "arr"
   ]
  },
  {
   "cell_type": "markdown",
   "metadata": {},
   "source": [
    "### Quick Sort\n",
    "Like merge sort, quick sort is a divide and conquer algorithm. It picks an element as a pivot and partitions the given array around the picked pivot. The key process in quick sort is partition, which separates the array around the pivot\n",
    "\n",
    "#### Pseudocode\n",
    "```\n",
    "low = starting index, high = ending index\n",
    "quick_sort(array, low, high)\n",
    "if low < high\n",
    "    partition_index = partition (array, low, high)\n",
    "\n",
    "    quick_sort(array, low, partition_index  - 1)\n",
    "    quick_sort(array, partition + 1, high)\n",
    "```"
   ]
  },
  {
   "cell_type": "code",
   "execution_count": 1,
   "metadata": {},
   "outputs": [
    {
     "data": {
      "text/plain": [
       "[5, 6, 11, 12, 13]"
      ]
     },
     "execution_count": 1,
     "metadata": {},
     "output_type": "execute_result"
    }
   ],
   "source": [
    "def partition(array, start_index, end_index): \n",
    "    pivot_value = array[start_index] \n",
    "    left_mark = start_index + 1 \n",
    "    right_mark = end_index \n",
    "    while True: \n",
    "        while left_mark <= right_mark and array[left_mark] <= pivot_value: \n",
    "            left_mark = left_mark + 1 \n",
    "        while array[right_mark] >= pivot_value and right_mark >= left_mark: \n",
    "            right_mark = right_mark - 1 \n",
    "        if right_mark < left_mark: \n",
    "            break \n",
    "        else: \n",
    "            temp = array[left_mark] \n",
    "            array[left_mark] = array[right_mark] \n",
    "            array[right_mark] = temp \n",
    "    array[start_index] = array[right_mark] \n",
    "    array[right_mark] = pivot_value \n",
    "    return right_mark\n",
    "\n",
    "\n",
    "def quick_helper(array, start, end):\n",
    "    if start < end:\n",
    "        split = partition(array, start, end)\n",
    "        quick_helper(array, start, split - 1)\n",
    "        quick_helper(array, split + 1, end)\n",
    "\n",
    "def quick_sort(array):\n",
    "    quick_helper(array, 0, len(array) - 1)\n",
    "\n",
    "arr = [12, 11, 13, 5, 6]\n",
    "quick_sort(arr)\n",
    "arr"
   ]
  },
  {
   "cell_type": "markdown",
   "metadata": {},
   "source": [
    "## Data Structures\n",
    "\n",
    "### Linked list\n",
    "A linear sequence of nodes that each have a pointer to the next node, or next and previous nodes. The list has a pointer/reference to the head of the list\n",
    "\n",
    "#### Linked list variants\n",
    "- **Singly linked list**: each node only points to the next node in the list\n",
    "- **Doubly linked list**: each node points to both the next node and previous node in the list\n",
    "- **Circular linked list**: the last node in the list points to the head of the list instead of `None`\n",
    "\n",
    "Operation | Time Complexity | Notes\n",
    "----- | ----- | -----\n",
    "Inserting at front | $O(1)$ |\n",
    "Inserting at back | $O(n)$ | Can be $O(1)$ if you have a tail pointer\n",
    "Deleting specific value | $O(n)$ |\n",
    "Popping end node | $O(n)$ | Can be $O(1)$ if you have a tail pointer\n",
    "\n",
    "#### Common Uses\n",
    "- Implementation of other data structures like a queue or stack\n",
    "- Maintaining a list of names/contact information\n",
    "- Implementation of an undo/redo function\n",
    "\n",
    "\n",
    "### Stack\n",
    "A linear sequence of nodes \"stacked\" on top of each other through a pointer to the next node, the stack itself has a pointer to the top of the stack. The stack utilizes the *LIFO* (last in first out) principle because insertions and deletions only happen at the top of the stack, the rest of the nodes in the stack can't normally be accessed without \"popping\" the nodes above it\n",
    "\n",
    "Operation | Time Complexity\n",
    "----- | -----\n",
    "push | $O(1)$\n",
    "pop | $O(1)$\n",
    "peek | $O(1)$\n",
    "\n",
    "#### Common Uses\n",
    "- Function call stack\n",
    "- check if a word is a palindrome\n",
    "\n",
    "### Queue\n",
    "A queue is similar to a linked list in the sense that it is a linear sequence of nodes that each point to each other, but a queue has a head and a tail pointer. A queue makes use of the *FIFO* (first in first out) principle because insertions happen at the back/tail of the queue and deletions happen at the front/head.\n",
    "\n",
    "Operation | Time Complexity\n",
    "----- | -----\n",
    "Enqueue | $O(1)$\n",
    "Dequeue | $O(1)$\n",
    "Search | $O(n)$\n",
    "\n",
    "#### Common Uses\n",
    "- Print job queue\n",
    "- Online ticket sales"
   ]
  },
  {
   "cell_type": "markdown",
   "metadata": {},
   "source": [
    "## Trees\n",
    "A tree is a non-linear, hierarchical data structure consisting of a collection of nodes(elements) and a collection of edges between the nodes\n",
    "- Each node in a tree has a parent node and multiple child nodes\n",
    "- A leaf node is a node that has no children\n",
    "- A tree is built up of subtrees, which are trees themselves\n",
    "\n",
    "### Height vs Depth\n",
    "- The **Height** of a node in a tree is the number of edges to the most distant leaf node\n",
    "- The **Depth** of a node in a binary tree is the number of edges from that node to the root node\n",
    "\n",
    "### Tree Traversal\n",
    "The three main ways to traverse a binary tree are\n",
    "1. **Pre-Order**: Process data, visit left subtree, visit right subtree\n",
    "2. **In Order**: Visit left subtree, process data, visit right subtree\n",
    "3. **Post-Order**: Visit left subtree, visit right subtree, process data\n",
    "\n",
    "### Binary Tree Properties\n",
    "- **Full Binary Tree**: Every node in the tree has either no or two child nodes\n",
    "- **Complete Binary Tree**: Every level of the tree is full except for the deepest level, and all the nodes in the deepest level are as left as possible\n",
    "- **Balanced Tree**: A tree is balanced if the left and right subtrees of any node have a height that differs by not more than 1\n",
    "\n",
    "### Binary Search Tree Properties\n",
    "- The left subtree of a node only contains values that are less than the parent\n",
    "- The right subree of a node only contains values that are less than the parent\n",
    "- The subtrees of a node must also be a Binary Search Tree\n",
    "\n",
    "<img src=\"..\\images\\example tree.png\" alt=\"picture of binary search tree\">\n",
    "\n",
    "### BST Deletion Cases\n",
    "1. Node to remove has no children\n",
    "    - Remove the node and update the parent's reference to `None` <br>\n",
    "    <img src=\"../images/case 1.gif\">\n",
    "2. Node to remove has 1 child\n",
    "    - Set the node's child to the node's parent and vice versa and then delete the node <br>\n",
    "    <img src=\"../images/case 2.gif\">\n",
    "3. Node to remove has 2 children\n",
    "    - Replace the node with its successor (the smallest node of its right subtree). Remove the successor using case 1 or 2 above <br>\n",
    "    <img src=\"../images/case 3.gif\">\n",
    "\n",
    "### AVL Trees\n",
    "An AVL tree is a type of binary search tree that rebalances itself with every insertion/deletion, each node has a balance factor associated with it to check if the tree is balanced.\n",
    "\n",
    "**Why is it important to make sure a BST is balanced?**\n",
    "- It's to maintain <mark style='background-color:lime'>$O(log(n))$</mark> search time, if a tree isn't balanced it can potentially have a time complexity of <mark>$O(n)$</mark> because the nodes could be in a straight line, where at that point it functions more like a linked list\n",
    "\n",
    "**What is the balance factor of a node?**\n",
    "- The balance factor (BF) of a node is the difference between the heights of the left and right subtrees, if $|\\text{BF}| > 1$ the tree gets rotated to rebalance"
   ]
  },
  {
   "cell_type": "markdown",
   "metadata": {},
   "source": [
    "## Heaps\n",
    "\n",
    "### Priority Queue\n",
    "A priority queue is a queue that orders the items in the queue by their *priority*. The items with the highest priority are at the front of the queue and the items with the lowest priority are at the back of the queue. If an item with a high priority is enqueued, it will be stored toward (or possibly at) the front of the queue. It will thus be one of the first (or *the* first) items dequeued from the queue.\n",
    "\n",
    "### Binary Heap Properties\n",
    "\n",
    "#### Structure Property\n",
    "- Complete Binary Tree\n",
    "\n",
    "#### Heap Order Property\n",
    "- For every parent node *p* with child nodes *m* and *n*:\n",
    "    - *p* item <= *m* item (Min Heap)\n",
    "    - *p* item <= *n* item (Min Heap)\n",
    "- Note:\n",
    "    - The min (or max) value is always in the root node\n",
    "    - No relationship between *m* item and *n* item\n",
    "    - Duplicate values are allowed\n",
    "\n",
    "### Min vs Max Heap\n",
    "The difference between a min heap and a max heap is that the smallest item gets the highest priority in a min heap and is the root of the tree, and the largest item gets the highest priority in a max heap\n",
    "\n",
    "### Heap Sort\n",
    "Big Picture: Build a *heap* from a list. Repeatedly remove the min from the list and insert into a sorted list\n",
    "\n",
    "Algorithm:\n",
    "1. Build a heap from the given list\n",
    "2. Dequeue each min `m` in the heap <br>\n",
    "    A. Insert `m` into a sorted list"
   ]
  },
  {
   "cell_type": "code",
   "execution_count": null,
   "metadata": {},
   "outputs": [],
   "source": [
    "def heap_sort(array):\n",
    "    heap = BinaryHeap()\n",
    "    heap.build_heap(list(array))\n",
    "    i = 0\n",
    "    while not heap.is_empty():\n",
    "        smallest_value = heap.del_min()\n",
    "        array[i] = smallest_value\n",
    "        i += 1"
   ]
  },
  {
   "cell_type": "markdown",
   "metadata": {},
   "source": [
    "## Graphs\n",
    "A graph is an abstract data type representing nodes (vertices) and their connections (edges). It can be thought of as a generalized tree where each node can be connected to another node\n",
    "\n",
    "<img src=\"https://upload.wikimedia.org/wikipedia/commons/thumb/5/5b/6n-graf.svg/640px-6n-graf.svg.png\" width=\"300\">\n",
    "\n",
    "### Terminology\n",
    "1. **Adjacent**: two vertices $v_k$ and $v_l$ are adjacent if they are connected by an edge ($(v_k, v_l) \\in E$)\n",
    "    - Ex: vertices 4 and 6 are adjacent\n",
    "    - Ex: vertices 4 and 2 are *not* adjacent\n",
    "2. **Path**: a sequence of edges leading from a source (starting) vertex to a destination (ending) vertex\n",
    "    - Ex: a path from 1 to 6 is: (1, 2), (2, 3), (3, 4), (4, 6)\n",
    "3. **Path Length**: The number of edges in the path\n",
    "    - Ex: The length of the above path is 4 edges\n",
    "4. **Distance**: The distance between two vertices is the path length for the shortest path between two vertices\n",
    "    - Ex: the shortest path from 1 to 6 is: (1, 5), (5, 4), (4, 6) which has a path length of 3, therefore the distance from 1 to 6 is 3\n",
    "5. **Cycle**: A path that starts and ends at the same vertex, graphs without cycles are called *acyclic*\n",
    "\n",
    "### Adjacency List\n",
    "An adjacency list is a list of vertices where each vertex has a list of adjacent vertices. Each vertex in the list of adjacent vertices represents an edge\n",
    "\n",
    "Using the graph above, the adjacency list would look like\n",
    "\n",
    "```python\n",
    "alist = {1: [2, 5],\n",
    "         2: [1, 3, 5],\n",
    "         3: [2, 4],\n",
    "         4: [3, 5],\n",
    "         5: [1, 2, 4],\n",
    "         6: [4]}\n",
    "```\n",
    "\n",
    "### Adjacency Matrix\n",
    "An adjacency matrix is a two-dimensional matrix were each vertex $v_{i}$ is assigned row $i$ and column $i$. If two vertices $v_{i}$ and $v_{j}$ are adjacent, then there is a 1 in the $i$ th row and $j$ th column in the matrix. If two vertices are not adjacent, then a 0 is placed in the respective row and column.\n",
    "\n",
    "An adjacency matrix for the above graph as a picture would look like this:\n",
    "```\n",
    "|1||2||3||4|5|6|\n",
    "|-||-|-|-|-|-|-|\n",
    "|1|0|1|0|0|1|0|\n",
    "|2|1|0|1|0|1|0|\n",
    "|3|0|1|0|1|0|0|\n",
    "|4|0|0|1|0|1|1|\n",
    "|5|1|1|0|1|0|0|\n",
    "|6|0|0|0|1|0|0|\n",
    "```\n",
    "\n",
    "And implemented:\n",
    "```py\n",
    "amatrix = [[0,1,0,0,1,0],\n",
    "           [1,0,1,0,1,0],\n",
    "           [0,1,0,1,0,0],\n",
    "           [0,0,1,0,1,1],\n",
    "           [1,1,0,1,0,0],\n",
    "           [0,0,0,1,0,0]]\n",
    "```\n",
    "\n",
    "An adjacency matrix has constant lookup time <mark style='background-color:green'>$O(1)$</mark> because you just need to go to `matrix[i][j]` to see if vertex i and j are connected\n",
    "\n",
    "The size of a matrix is the number of vertices squared, which is called *sparse* and takes up a large amount of memory. Adjacency matrices trade effective memory usage for constant lookup time\n",
    "\n",
    "### Weighted Graph\n",
    "Each edge in a weighted graph has an associated \"weight\" or value associated with it. This weight represents the cost to move from one vertex to another. The shortest distance between two vertices in a weighted graph is the path with the smallest edge weight, instead of the least number of edges\n",
    "\n",
    "### Directed Graph\n",
    "Each edge in a weighted graph has a direction associated with it, usually indicated with an arrow on the edge\n",
    "\n",
    "### Graph Traversal Algorithms\n",
    "- **Breadth First Search**:  Makes use of a <mark style='background-color:cyan'>Queue</mark> and visits each adjacent vertex"
   ]
  },
  {
   "cell_type": "code",
   "execution_count": 1,
   "metadata": {},
   "outputs": [],
   "source": [
    "from collections import deque\n",
    "def bfs(g, start):\n",
    "    '''\n",
    "    enqueue: append left\n",
    "    dequeue: pop right\n",
    "    '''\n",
    "    frontier_queue = deque()\n",
    "    frontier_queue.appendleft(start) #enqueue start vertex\n",
    "    discovered_set = set([start]) #add start vertex\n",
    "    \n",
    "    while len(frontier_queue) > 0: #while frontier_queue isn't empty\n",
    "        curr_v = frontier_queue.pop() #dequeue vertex V from the queue\n",
    "        print(curr_v) #process it\n",
    "        for adj_v in curr_v.get_connections(): #for each adjacent vertex of V\n",
    "            if adj_v not in discovered_set: #if its not already in the discovered_set\n",
    "                frontier_queue.appendleft(adj_v) #enqueue to frontier queue\n",
    "                discovered_set.add(adj_v) #add to the set"
   ]
  },
  {
   "cell_type": "markdown",
   "metadata": {},
   "source": [
    "\n",
    "- **Depth First Search**: Explores the deepest path of each adjacent vertex before moving onto the next, makes use of a <mark style='background-color:cyan'>Stack</mark> and makes use of backtracking \n"
   ]
  },
  {
   "cell_type": "code",
   "execution_count": null,
   "metadata": {},
   "outputs": [],
   "source": [
    "def dfs(g, start):\n",
    "    '''\n",
    "    push: append right\n",
    "    pop: pop right\n",
    "    '''\n",
    "    frontier_stack = deque()\n",
    "    frontier_stack.append(start) #push start vertex on to the stack\n",
    "    discovered_set = set()\n",
    "    \n",
    "    while len(frontier_stack) > 0: #while the stack isn't empty\n",
    "        curr_v = frontier_stack.pop() #pop vertex v from the queue\n",
    "        if curr_v not in discovered_set: #if it't not in the discovered set\n",
    "            print(curr_v) #process\n",
    "            discovered_set.add(curr_v) #add to the set\n",
    "            for adj_v in curr_v.get_connections(): #for each adjacent vertex\n",
    "                frontier_stack.append(adj_v) #push the adjacent vertex onto the stack"
   ]
  },
  {
   "cell_type": "markdown",
   "metadata": {},
   "source": [
    "\n",
    "- Both of them have a time complexity of $O(V + E)$ where $V$ is the number of vertices and $E$ is the number of edges\n",
    "\n",
    "### Shortest Distance\n",
    "- Unweighted Graph\n",
    "    - Shortest distance is the path with the fewest edges\n",
    "    - use <mark>**breadth-first search**</mark>\n",
    "- Weighted Graph\n",
    "    - Shortest distance is the path with the lowest total edge weight\n",
    "    - use <mark>**Dijkstra's Algorithm**</mark>"
   ]
  },
  {
   "cell_type": "markdown",
   "metadata": {},
   "source": [
    "### Dijkstra's Algorithm\n",
    "Uses a <mark style='background-color:cyan'>Priority Queue/Binary Heap</mark> to keep track of the unvisited vertices. Priority is given to the vertices with the smallest path distance/smallest weight from the origin vertex\n",
    "\n",
    "#### Pseudocode\n",
    "1. Initialize all vertices'\n",
    "    - Distances to infinity (a number larger than any realistic distance)\n",
    "    - Predecessors to 0\n",
    "2. Enqueue all vertices to the priority queue `unvisitedQ`\n",
    "3. Set the origin vertex's distance to 0\n",
    "4. While `unvisitedQ` is not empty:\n",
    "    1. `currV = dequeue(unvisitedQ)`\n",
    "    2. for each adjacent vertex `adjV` of `currV`\n",
    "        1. `newDistance` = path distance from the origin through `currV` through `adjV`\n",
    "        2. If `newDistance` is smaller than `adjV` path distance\n",
    "            1. Update `adjV` path distance\n",
    "            2. Set `adjV` predecessor to `currV`\n",
    "            3. Update `unvisitedQ` with `adjV`'s new priority(`newDistance`)"
   ]
  },
  {
   "cell_type": "code",
   "execution_count": 1,
   "metadata": {},
   "outputs": [],
   "source": [
    "class BinaryHeap:\n",
    "    #this class does nothing, it's just for syntax highlighting\n",
    "    def __init__(self):\n",
    "        pass\n",
    "\n",
    "def dijkstra(aGraph, start):\n",
    "    \"\"\"\n",
    "    Performs dijkstra's algorithm to find the shortest path in a weighted\n",
    "    digraph\n",
    "    \"\"\"\n",
    "    pq = BinaryHeap()\n",
    "    start.set_distance(0)\n",
    "    pq.build_heap([(v, v.get_distance()) for v in aGraph])\n",
    "    while not pq.is_empty():\n",
    "        curr_tuple = pq.del_min()\n",
    "        currV = curr_tuple[0]\n",
    "        for adjV in currV.get_connections():\n",
    "            new_dist = currV.get_distance() + currV.get_weight(adjV)\n",
    "            if new_dist < adjV.get_distance():\n",
    "                adjV.set_distance(new_dist)\n",
    "                adjV.set_predecessor(currV)\n",
    "                pq.decrease_key((adjV, new_dist))"
   ]
  },
  {
   "cell_type": "markdown",
   "metadata": {},
   "source": [
    "An implementation of dijkstra's algorithm using a binary heap has a time complexity of $O((V+E)log(V))$\n",
    "\n",
    "### Minimum Spanning Trees\n",
    "A minimum spanning tree of a graph $G = (V, E)$ is an acyclic subset of $E$ that connects all vertices in $V$ such that the sum of the weight in the MST is minimized. Essentially just a tree where the path between two vertices is the shortest path\n",
    "\n",
    "#### Applications of MSTs\n",
    "- Sending messages in a peer to peer network\n",
    "- Laying cables to connect homes\n",
    "\n",
    "#### MST Algorithms\n",
    "The two main algorithms that we covered in class to construct an MST are\n",
    "- Prim's Algorithm\n",
    "- Kruskal's algorithm\n",
    "\n",
    "#### Prim's Algorithm\n",
    "Prim's algorithm functions very similarly to dijkstra's algorithm, making use of a <mark style='background-color:cyan'>Priority Queue</mark> but prim's algorithm only takes into account the weight between two adjacent vertices, whereas dijkstra's algorithm collects a sum of distances"
   ]
  },
  {
   "cell_type": "code",
   "execution_count": null,
   "metadata": {},
   "outputs": [],
   "source": [
    "def prims(aGraph, start):\n",
    "    \"\"\"\n",
    "    Carries out prim's algorithm\n",
    "    \"\"\"\n",
    "    pq = BinaryHeap()\n",
    "    start.set_distance(0) #set distance of start to 0\n",
    "    pq.build_heap([(v, v.get_distance()) for v in aGraph]) #enqueue all vertices to the priority queue\n",
    "    while not pq.is_empty(): #while the priority queue is not empty\n",
    "        curr_tuple = pq.del_min() #get a tuple of (vertex, distance) by dequeuing from the pq\n",
    "        currV = curr_tuple[0] #extract the vertex from the tuple\n",
    "        for adjV in currV.get_connections(): #for each adjacent vertex of currV\n",
    "            new_cost = currV.get_weight(adjV) #get the new cost of the edge between currV and adjV\n",
    "            adjV_tuple = (adjV, adjV.get_distance())\n",
    "            if adjV_tuple in pq and new_cost < adjV.get_distance(): #if the tuple is in pq and the cost is smaller than the distance\n",
    "                adjV.set_distance(new_cost) #update adjV path distance to new_cost\n",
    "                adjV.set_predecessor(currV) #set adjV's predecessor to currV\n",
    "                pq.decrease_key((adjV, new_cost)) #update the pq with adjV's new priority"
   ]
  },
  {
   "cell_type": "markdown",
   "metadata": {},
   "source": [
    "An implementation of prim's algorithm using a priority queue has a time complexity of $O((V+E)log(V))$"
   ]
  },
  {
   "cell_type": "markdown",
   "metadata": {},
   "source": [
    "#### Kruskal's algorithm\n",
    "1. Start with an empty MST\n",
    "2. Enqueue all dges in the given graph to a priority queue `unvisitedQ`\n",
    "3. While `unvisitedQ`  is not empty:\n",
    "    - `currE` = `unvisitedQ.dequeue()`\n",
    "    - if `u` and `v` vertices of `currE` are not already **connected**\n",
    "        - add `u` and `v` vertices and `currE` to the MST\n",
    "        - update `u` and `v` to be connected (union operation)\n",
    "    - if `u` and `v` vertices of `currE` are already **connected**\n",
    "        - discard the `currE` edge\n",
    "\n",
    "Kruskal's algorithm has a time complexity of $O(E(log(E) + log(V)))$"
   ]
  },
  {
   "cell_type": "markdown",
   "metadata": {},
   "source": [
    "## Some Edge Cases\n",
    "These might be topics that aren't mentioned on the review guide but could possibly come up\n",
    "\n",
    "### Tail Recursion\n",
    "A recursive function is tail recursive when the recursive call is the last thing executed by the function"
   ]
  },
  {
   "cell_type": "code",
   "execution_count": 3,
   "metadata": {},
   "outputs": [
    {
     "name": "stdout",
     "output_type": "stream",
     "text": [
      "120\n"
     ]
    }
   ],
   "source": [
    "def factorial(n):\n",
    "    if n == 0:\n",
    "        return 1\n",
    "    else:\n",
    "        return factorial(n - 1) * n \n",
    "\n",
    "print(factorial(5))"
   ]
  },
  {
   "cell_type": "markdown",
   "metadata": {},
   "source": [
    "### What makes each built in data structure unique\n",
    "\n",
    "#### List\n",
    "A python list can be made up of multiple arbitrary data types in the same list\n",
    "\n",
    "#### Tuple\n",
    "A tuple is similar to a list, but it's immutable, meaning that you can't modify it after its creation\n",
    "\n",
    "#### Dictionary\n",
    "A dictionary is indexed by a key rather than a regular index value like a list\n",
    "```python\n",
    "car = {\n",
    "    \"make\": \"subaru\",\n",
    "    \"model\": \"outback\"\n",
    "}\n",
    "```\n",
    "if I wanted to access the model of the car I would call `car[\"make\"]`\n",
    "\n",
    "#### Set\n",
    "A set is unique in the way that it is unindexed, thus not allowing for duplicate values, if you were to convert the list `[1, 1, 2, 2, 3, 3, 4, 4]` into a set, the resulting set would be `{1, 2, 3, 4}`. Because it's unindexed, you cannot access set items like you would a list, but you can iterate through it. Given the example set\n",
    "```python\n",
    "example = {\"apples\", \"bananas\", \"oranges\"}\n",
    "```\n",
    "you can't do `example[1]`, but you can do\n",
    "```python\n",
    "for item in example:\n",
    "    print(item)\n",
    "```"
   ]
  }
 ],
 "metadata": {
  "interpreter": {
   "hash": "5effaac212c4d742dedc00b09a52cfe9f08c2a6087482c8e8046c630cf2b079b"
  },
  "kernelspec": {
   "display_name": "Python 3.8.12 ('base')",
   "language": "python",
   "name": "python3"
  },
  "language_info": {
   "codemirror_mode": {
    "name": "ipython",
    "version": 3
   },
   "file_extension": ".py",
   "mimetype": "text/x-python",
   "name": "python",
   "nbconvert_exporter": "python",
   "pygments_lexer": "ipython3",
   "version": "3.8.12"
  },
  "orig_nbformat": 4
 },
 "nbformat": 4,
 "nbformat_minor": 2
}
