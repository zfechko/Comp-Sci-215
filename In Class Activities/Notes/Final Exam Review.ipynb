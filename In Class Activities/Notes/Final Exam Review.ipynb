{
 "cells": [
  {
   "cell_type": "markdown",
   "metadata": {},
   "source": [
    "# Final Exam Review\n",
    "\n",
    "## Topics Covered\n",
    "- Everything we covered during lectures and assignments except Python packages\n",
    "- Python basics\n",
    "- Algorithm Analysis\n",
    "    - What is algorithm analysis?\n",
    "    - Time vs space complexity\n",
    "    - Big o Notation\n",
    "- Sorting Algorithms\n",
    "- Data Structures \n",
    "- Hashing\n",
    "    - Why use hashing?\n",
    "    - When is hashing appropriate\n",
    "- Trees\n",
    "- Graphs\n"
   ]
  },
  {
   "cell_type": "markdown",
   "metadata": {},
   "source": [
    "## Hashing\n",
    "Mapping of a key to its unique slot position (hash value), that is, there is a function $f$ , such that $f(\\text{key}) = \\text{hashvalue}$\n",
    "\n",
    "**Types of Hash Methods:**\n",
    "- Truncation\n",
    "- Folding\n",
    "- Radix Conversion"
   ]
  },
  {
   "cell_type": "markdown",
   "metadata": {},
   "source": [
    "## Algorithm Analysis\n",
    "- **Time Complexity**: The amount of time an algorithm takes based on the size of its inputs\n",
    "- **Space Complexity**: The amount of memory an algorithm takes up based on the size of its inputs\n",
    "\n",
    "<img src='../images/bigo.png' style='height:50%;width:50%'>\n",
    "\n",
    "### Sorting Algorithm Complexities\n",
    "Operation | Best Time | Average Time | Worst Time | Space\n",
    "----- | ----- | ----- | -----| -----\n",
    "Bubble Sort | <mark>$O(n)$</mark> | <mark style='background-color:salmon'>$O(n^{2})$</mark> | <mark style='background-color:salmon'>$O(n^{2})$</mark> | $O(1)$\n",
    "Insertion Sort | <mark>$O(n)$</mark> | <mark style='background-color:salmon'>$O(n^{2})$</mark> | <mark style='background-color:salmon'>$O(n^{2})$</mark> | $O(1)$\n",
    "Selection Sort | <mark style='background-color:salmon'>$O(n^{2})$</mark> | <mark style='background-color:salmon'>$O(n^{2})$</mark> | <mark style='background-color:salmon'>$O(n^{2})$</mark> | $O(1)$\n",
    "Shell Sort | <mark style='background-color:orange'>$O(nlog(n))$</mark> | <mark style='background-color:salmon'>$O(n(log(n))^{2})$</mark> | <mark style='background-color:salmon'>$O(n(log(n))^{2})$</mark> | $O(1)$\n",
    "Heap Sort | <mark style='background-color:orange'>$O(nlog(n))$</mark> | <mark style='background-color:orange'>$O(nlog(n))$</mark> | <mark style='background-color:orange'>$O(nlog(n))$</mark> | $O(1)$\n",
    "Merge Sort | <mark style='background-color:orange'>$O(nlog(n))$</mark> | <mark style='background-color:orange'>$O(nlog(n))$</mark> | <mark style='background-color:orange'>$O(nlog(n))$</mark> | <mark>$O(n)$</mark>\n",
    "Quick Sort | <mark style='background-color:orange'>$O(nlog(n))$</mark> | <mark style='background-color:orange'>$O(nlog(n))$</mark> | <mark style='background-color:salmon'>$O(n^{2})$</mark> | <mark style='background-color:lime'>$O(log(n))$</mark>"
   ]
  },
  {
   "cell_type": "markdown",
   "metadata": {},
   "source": [
    "### Data Structure Operations\n",
    "Structure | Average Access | Average Search | Average Insertion | Average Deletion\n",
    "----- | ----- | ----- | ----- | -----\n",
    "Linked List | <mark>$O(n)$</mark> | <mark>$O(n)$</mark> | can be either <mark>$O(n)$</mark> or <mark style='background-color:green'>$O(1)$ | can be either <mark>$O(n)$</mark> or <mark style='background-color:green'>$O(1)$\n",
    "Stack | <mark>$O(n)$</mark> | <mark>$O(n)$</mark> | <mark style='background-color:green'>$O(1)$ | <mark style='background-color:green'>$O(1)$\n",
    "Queue | <mark>$O(n)$</mark> | <mark>$O(n)$</mark> | <mark style='background-color:green'>$O(1)$ | <mark style='background-color:green'>$O(1)$\n",
    "Binary Search Tree | <mark style='background-color:lime'>$O(log(n))$</mark> | <mark style='background-color:lime'>$O(log(n))$</mark> | <mark style='background-color:lime'>$O(log(n))$</mark> | <mark style='background-color:lime'>$O(log(n))$</mark>\n",
    "AVL Tree | <mark style='background-color:lime'>$O(log(n))$</mark> | <mark style='background-color:lime'>$O(log(n))$</mark> | <mark style='background-color:lime'>$O(log(n))$</mark> | <mark style='background-color:lime'>$O(log(n))$</mark>\n",
    "HashTable/HashMap | <mark style='background-color:grey'>N/A | <mark style='background-color:green'>$O(1)$ | <mark style='background-color:green'>$O(1)$ | <mark style='background-color:green'>$O(1)$\n",
    "\n",
    "**Note** A Binary search tree can have a worst case time of <mark>$O(n)$</mark> if all the nodes are arranged in a line\n",
    "\n"
   ]
  }
 ],
 "metadata": {
  "language_info": {
   "name": "python"
  },
  "orig_nbformat": 4
 },
 "nbformat": 4,
 "nbformat_minor": 2
}
