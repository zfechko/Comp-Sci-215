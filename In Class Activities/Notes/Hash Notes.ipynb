{
 "cells": [
  {
   "cell_type": "markdown",
   "metadata": {},
   "source": [
    "# Hashmap and Hash table notes\n",
    "\n",
    "## Dictionary\n",
    "- A dictionary is a list of **keys-value** pairs, with keys as indices\n",
    "- Python dictionaries are implemented using hash tables\n",
    "\n",
    "## Hash Table\n",
    "- Data structure to store data at a **specific** location based on its **key**\n",
    "\n",
    "## Hashing\n",
    "- Mapping of a key to its slot position (hashvalue), that is, there is a function $f$ such that $f(key) = hashvalue$\n",
    "- Example:\n",
    "    - $f(n)$ - remainder of $n / m$, where $m$ is the sequence size\n",
    "    - $f(22)$ = `22 % 11 = 0`\n",
    "    - $f(7)$ = `7 % 11 = 7`\n",
    "\n",
    "## HashTable / HashMap\n",
    "- Data structure for storing **key <-> value** pairs\n",
    "- Key and value pairs are stored in the same slot positions in the Hash Table(s)\n",
    "- Example:\n",
    "    - 22 <-> 'Srini', 90 <-> 'Zach', 16 <-> 'Ellen', 7 <-> 'Vanessa', 42 <-> 'Yang\n",
    "\n",
    "### HashTable\n",
    "- How can we store string/text data as keys in Hash Tables?\n",
    "\n",
    "## Collision Handling\n",
    "- **Collision**: different data values result in the same hash value (slot position)\n",
    "- Linear Probing:\n",
    "    - Sequentially look for next available slot position"
   ]
  }
 ],
 "metadata": {
  "interpreter": {
   "hash": "5effaac212c4d742dedc00b09a52cfe9f08c2a6087482c8e8046c630cf2b079b"
  },
  "kernelspec": {
   "display_name": "Python 3.8.12 ('base')",
   "language": "python",
   "name": "python3"
  },
  "language_info": {
   "name": "python",
   "version": "3.8.12"
  },
  "orig_nbformat": 4
 },
 "nbformat": 4,
 "nbformat_minor": 2
}
