{
 "cells": [
  {
   "cell_type": "markdown",
   "metadata": {},
   "source": [
    "# Midterm Exam Study Guide"
   ]
  },
  {
   "cell_type": "markdown",
   "metadata": {},
   "source": [
    "## 1. Python Basics"
   ]
  },
  {
   "cell_type": "markdown",
   "metadata": {},
   "source": [
    "Type | Mutable?\n",
    "----- | -----\n",
    "String | No\n",
    "List | Yes\n",
    "Tuple | No\n",
    "Set | No\n",
    "Dictionary| Yes (but not labels)"
   ]
  },
  {
   "cell_type": "markdown",
   "metadata": {},
   "source": [
    "Proving the mutability of lists"
   ]
  },
  {
   "cell_type": "code",
   "execution_count": 2,
   "metadata": {},
   "outputs": [
    {
     "name": "stdout",
     "output_type": "stream",
     "text": [
      "[1, 2, 3]\n",
      "[1, 2, 3, 4]\n"
     ]
    }
   ],
   "source": [
    "temp_list = [1, 2, 3]\n",
    "print(temp_list)\n",
    "temp_list.append(4)\n",
    "print(temp_list)"
   ]
  },
  {
   "cell_type": "markdown",
   "metadata": {},
   "source": [
    "Proving the mutability of dictionaries"
   ]
  },
  {
   "cell_type": "code",
   "execution_count": 3,
   "metadata": {},
   "outputs": [
    {
     "name": "stdout",
     "output_type": "stream",
     "text": [
      "{'brand': 'Subaru', 'model': 'Outback', 'year': 2011}\n",
      "{'brand': 'Subaru', 'model': 'Outback', 'year': 2011, 'color': 'black'}\n"
     ]
    }
   ],
   "source": [
    "my_dict = {\n",
    "    \"brand\": \"Subaru\",\n",
    "    \"model\": \"Outback\",\n",
    "    \"year\": 2011\n",
    "}\n",
    "print(my_dict)\n",
    "my_dict[\"color\"] = \"black\" #adding a new item to the dictionary\n",
    "print(my_dict)"
   ]
  },
  {
   "cell_type": "markdown",
   "metadata": {},
   "source": [
    "What is Aliasing?\n",
    "- It's when you set a variable to another, it's like making a reference in C++\n",
    "- In the example below `num2` is set to `num1` which gives it the same value and id"
   ]
  },
  {
   "cell_type": "code",
   "execution_count": 4,
   "metadata": {},
   "outputs": [
    {
     "name": "stdout",
     "output_type": "stream",
     "text": [
      "num1 = 5 140729725886336\n",
      "num2 = 5 140729725886336\n"
     ]
    }
   ],
   "source": [
    "num1 = 5\n",
    "num2 = num1\n",
    "print(\"num1 =\", num1, id(num1))\n",
    "print(\"num2 =\", num2, id(num2))"
   ]
  },
  {
   "cell_type": "markdown",
   "metadata": {},
   "source": [
    "What is inheritance?\n",
    "- Inheritance is the act of creating a class that inherits data members and member functions from a parent class, this helps cut down on redundant code and make things reusable"
   ]
  },
  {
   "cell_type": "code",
   "execution_count": 5,
   "metadata": {},
   "outputs": [
    {
     "name": "stdout",
     "output_type": "stream",
     "text": [
      "Zach Fechko\n"
     ]
    }
   ],
   "source": [
    "class Person: #creating parent class Person\n",
    "    def __init__(self, fname, lname):\n",
    "        self.first_name = fname\n",
    "        self.last_name = lname\n",
    "    \n",
    "    def print_name(self):\n",
    "        print(self.first_name, self.last_name)\n",
    "\n",
    "x = Person(\"Zach\", \"Fechko\")\n",
    "x.print_name()"
   ]
  },
  {
   "cell_type": "code",
   "execution_count": 6,
   "metadata": {},
   "outputs": [
    {
     "name": "stdout",
     "output_type": "stream",
     "text": [
      "Anthony Ghimpu\n"
     ]
    }
   ],
   "source": [
    "#creating child class Student that inherits from the person class\n",
    "class Student(Person): #by putting the parent class in parenthesis, Student inherits from Person\n",
    "    pass\n",
    "\n",
    "y = Student(\"Anthony\", \"Ghimpu\")\n",
    "y.print_name()"
   ]
  },
  {
   "cell_type": "markdown",
   "metadata": {},
   "source": [
    "Functions vs Methods\n",
    "- **Methods** are member functions, or functions that are defined as part of a class\n",
    "- **Functions** are defined outside of a class"
   ]
  },
  {
   "cell_type": "markdown",
   "metadata": {},
   "source": [
    "## 2. Python for Data Analytics"
   ]
  },
  {
   "cell_type": "markdown",
   "metadata": {},
   "source": [
    "What is the `ndarray` class? \n",
    "- ndarray means *N-dimensional array*, it's a numpy array that is a multidimensional container of items of the same type and size. It's size is usually fixed and defined when the array is made"
   ]
  },
  {
   "cell_type": "code",
   "execution_count": 7,
   "metadata": {},
   "outputs": [
    {
     "data": {
      "text/plain": [
       "numpy.ndarray"
      ]
     },
     "execution_count": 7,
     "metadata": {},
     "output_type": "execute_result"
    }
   ],
   "source": [
    "import numpy as np\n",
    "# A 2-dimensional array of size 2x3 composed of 4-byte insteger values\n",
    "x = np.array([[1, 2, 3], [4, 5, 6]], np.int32)\n",
    "type(x)\n"
   ]
  },
  {
   "cell_type": "markdown",
   "metadata": {},
   "source": [
    "What is numpy vectorizing?\n",
    "- Vectorizing means that the function is applied over many values simultaneously instead of one value at a time, this cuts down on code runtime as well as making your code cleaner\n",
    "- Vectorized functions run faster because numpy runs on pre-compiled and pre-allocated C code instead of having to allocate and run new C code for each iteration\n",
    "- As you can see below, the `multiply_arrays` function runs in almost half the time compared to the `multiply_lists`"
   ]
  },
  {
   "cell_type": "code",
   "execution_count": 8,
   "metadata": {},
   "outputs": [
    {
     "name": "stdout",
     "output_type": "stream",
     "text": [
      "844 ns ± 117 ns per loop (mean ± std. dev. of 5 runs, 10000 loops each)\n",
      "466 ns ± 27.2 ns per loop (mean ± std. dev. of 5 runs, 10000 loops each)\n"
     ]
    }
   ],
   "source": [
    "import timeit\n",
    "def multiply_lists(li_a, li_b):\n",
    "    for i in range(len(li_a)):\n",
    "        li_a[i] * li_b[i]\n",
    "\n",
    "def multiply_arrays(arr_a, arr_b):\n",
    "    arr_a * arr_b\n",
    "\n",
    "li_a = [1, 2, 3, 4]\n",
    "li_b = [5, 6, 7, 8]\n",
    "\n",
    "arr_a = np.array(li_a)\n",
    "arr_b = np.array(li_b)\n",
    "\n",
    "%timeit -n 10000 -r 5 multiply_lists(li_a, li_b)\n",
    "%timeit -n 10000 -r 5 multiply_arrays(arr_a, arr_b)"
   ]
  },
  {
   "cell_type": "markdown",
   "metadata": {},
   "source": [
    "What is NumPy broadcasting?\n",
    "- Broadcasting describes how NumPy treats arrays with different shapes during arithmetic operations. The smaller array would be \"broadcast\" across the larger array so they have compatible shapes\n",
    "- In the example below, the 2 from `b` is stretched across the size of `a` so that `a` can be multiplied by `b`"
   ]
  },
  {
   "cell_type": "code",
   "execution_count": 9,
   "metadata": {},
   "outputs": [
    {
     "data": {
      "text/plain": [
       "array([2, 4, 6])"
      ]
     },
     "execution_count": 9,
     "metadata": {},
     "output_type": "execute_result"
    }
   ],
   "source": [
    "a = np.array([1, 2, 3])\n",
    "b = 2\n",
    "a * b #when multiplying, b gets turned from 2 into [2, 2, 2] in order to make them the same size"
   ]
  },
  {
   "cell_type": "markdown",
   "metadata": {},
   "source": [
    "## 3. Algorithm Analysis"
   ]
  },
  {
   "cell_type": "markdown",
   "metadata": {},
   "source": [
    "Algorithm analysis is checking to make sure that a function can use its resources efficiently, either in memory size or average runtime"
   ]
  },
  {
   "cell_type": "markdown",
   "metadata": {},
   "source": [
    "- **Time Complexity** is the amount of time a function takes to run based on the size of its inputs\n",
    "- **Space Complexity** is the amount of memory a function takes during runtime based on the size of its inputs"
   ]
  },
  {
   "cell_type": "markdown",
   "metadata": {},
   "source": [
    "- <font color='green'>Constant time</font> = $O(1)$\n",
    "- <font color='lime'>Logarithmic</font> = $O(log(n))$\n",
    "- <font color='yellow'>Linear time</font> = $O(n)$\n",
    "- <font color='orange'>Log linear</font> = $O(n log(n))$\n",
    "- <font color='salmon'>Quadratic</font> = $O(n^2)$\n",
    "- <font color='salmon'>Polynomial</font> = $O(n^k)$\n",
    "- <font color='salmon'>Exponential</font> = $O(2^n)$\n",
    "- <font color='salmon'>Factorial</font> = $O(n!)$"
   ]
  },
  {
   "cell_type": "markdown",
   "metadata": {},
   "source": [
    "Operation counting example\n",
    "```python\n",
    "def sum(n):\n",
    "    sum = 0                     #k\n",
    "    for i in range(0, n, 1):    #k | \n",
    "        sum += 1                #k |  n\n",
    "    return sum                  #k\n",
    "```\n",
    "Time Complexity ~ No. of operations <br>\n",
    "$ = k + n * (k + k) + k$ <br>\n",
    "$ = 2kn + 2k$ <br>\n",
    "Linear time"
   ]
  },
  {
   "cell_type": "markdown",
   "metadata": {},
   "source": [
    "**Asymptotic Analysis** <br>\n",
    "How does $T(n)$ vary with n? \n",
    "- <font color='green'>Constant</font>: $T(n) = k = O(1)$\n",
    "- <font color='yellow'>Linear</font>: $T(n) = a * n + b = O(n)$\n",
    "- <font color='salmon'>Quadratic</font>: $T(n) = a * n^2 + b * n + c = O(n^2)$\n",
    "- <font color='salmon'>Exponential</font>: $T(n) = a^n + b = O(2^n)$\n",
    "- <font color='salmon'>Factorial</font>: $T(n) = a * n! + b = O(n!)$\n",
    "\n",
    "A hack for determining big O notation is to use the largest degree of n, for example in the Quadratic one the highest degree of n is $n^2$, therefore the time complexity is $O(n^2)$"
   ]
  },
  {
   "cell_type": "markdown",
   "metadata": {},
   "source": [
    "Time complexities of common algorithms:\n",
    "- Linear Search: <font color='yellow'>$O(n)$</font>\n",
    "- Binary Search: <font color='lime'>$O(log(n))$</font>\n",
    "- Merge Sort: <font color = 'orange'>$O(n log(n))$</font>\n",
    "- Bubble Sort: <font color='salmon'>$O(n^2)$</font>\n",
    "- Selection Sort: <font color='salmon'>$O(n^2)$</font>\n",
    "- Shell sort: <font color='salmon'>$O(n(log(n))^2)$</font>"
   ]
  }
 ],
 "metadata": {
  "interpreter": {
   "hash": "5effaac212c4d742dedc00b09a52cfe9f08c2a6087482c8e8046c630cf2b079b"
  },
  "kernelspec": {
   "display_name": "Python 3.8.12 ('base')",
   "language": "python",
   "name": "python3"
  },
  "language_info": {
   "codemirror_mode": {
    "name": "ipython",
    "version": 3
   },
   "file_extension": ".py",
   "mimetype": "text/x-python",
   "name": "python",
   "nbconvert_exporter": "python",
   "pygments_lexer": "ipython3",
   "version": "3.8.12"
  },
  "orig_nbformat": 4
 },
 "nbformat": 4,
 "nbformat_minor": 2
}
