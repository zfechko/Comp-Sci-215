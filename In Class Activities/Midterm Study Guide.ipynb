{
 "cells": [
  {
   "cell_type": "markdown",
   "metadata": {},
   "source": [
    "Are strings mutable?\n",
    "Yes"
   ]
  },
  {
   "cell_type": "code",
   "execution_count": 1,
   "metadata": {},
   "outputs": [
    {
     "data": {
      "text/plain": [
       "'Zach F.'"
      ]
     },
     "execution_count": 1,
     "metadata": {},
     "output_type": "execute_result"
    }
   ],
   "source": [
    "name = \"Zach\"\n",
    "name = name + \" F.\"\n",
    "name"
   ]
  },
  {
   "cell_type": "markdown",
   "metadata": {},
   "source": [
    "What is Aliasing?\n",
    "- It's when you set a variable to another, it's like making a reference in C++"
   ]
  },
  {
   "cell_type": "code",
   "execution_count": 10,
   "metadata": {},
   "outputs": [
    {
     "name": "stdout",
     "output_type": "stream",
     "text": [
      "num1 = 5 140728455864192\n",
      "num2 = 5 140728455864192\n"
     ]
    }
   ],
   "source": [
    "num1 = 5\n",
    "num2 = num1\n",
    "print(\"num1 =\", num1, id(num1))\n",
    "print(\"num2 =\", num2, id(num2))"
   ]
  },
  {
   "cell_type": "markdown",
   "metadata": {},
   "source": [
    "What is inheritance?\n",
    "- Inheritance is the act of creating a class that inherits data members and member functions from a parent class, this helps cut down on redundant code and make things reusable"
   ]
  },
  {
   "cell_type": "code",
   "execution_count": 7,
   "metadata": {},
   "outputs": [
    {
     "name": "stdout",
     "output_type": "stream",
     "text": [
      "Zach Fechko\n"
     ]
    }
   ],
   "source": [
    "class Person: #creating parent class Person\n",
    "    def __init__(self, fname, lname):\n",
    "        self.first_name = fname\n",
    "        self.last_name = lname\n",
    "    \n",
    "    def print_name(self):\n",
    "        print(self.first_name, self.last_name)\n",
    "\n",
    "x = Person(\"Zach\", \"Fechko\")\n",
    "x.print_name()"
   ]
  },
  {
   "cell_type": "code",
   "execution_count": 9,
   "metadata": {},
   "outputs": [
    {
     "name": "stdout",
     "output_type": "stream",
     "text": [
      "Anthony Ghimpu\n"
     ]
    }
   ],
   "source": [
    "#creating child class Student that inherits from the person class\n",
    "class Student(Person): #by putting the parent class in parenthesis, Student inherits from Person\n",
    "    pass\n",
    "\n",
    "y = Student(\"Anthony\", \"Ghimpu\")\n",
    "y.print_name()"
   ]
  },
  {
   "cell_type": "markdown",
   "metadata": {},
   "source": [
    "What is the `ndarray` class? \n",
    "- ndarray means N-dimensional array, it's a numpy array that is a multidimensional container of items of the same type and size. It's size is usually fixed and defined when the array is made"
   ]
  },
  {
   "cell_type": "code",
   "execution_count": 4,
   "metadata": {},
   "outputs": [
    {
     "data": {
      "text/plain": [
       "numpy.ndarray"
      ]
     },
     "execution_count": 4,
     "metadata": {},
     "output_type": "execute_result"
    }
   ],
   "source": [
    "import numpy as np\n",
    "# A 2-dimensional array of size 2x3 composed of 4-byte insteger values\n",
    "x = np.array([[1, 2, 3], [4, 5, 6]], np.int32)\n",
    "type(x)\n"
   ]
  },
  {
   "cell_type": "markdown",
   "metadata": {},
   "source": [
    "What is numpy vectorizing?\n",
    "- Vectorizing takes a nested sequence of objects or numpy arrays as inputs and returns a single numpy array or tuple of numpy arrays, essentially it multiplies arrays together or by a scalar. It helps code run faster and look cleaner"
   ]
  },
  {
   "cell_type": "code",
   "execution_count": 5,
   "metadata": {},
   "outputs": [
    {
     "data": {
      "text/plain": [
       "array([3, 4, 1, 2])"
      ]
     },
     "execution_count": 5,
     "metadata": {},
     "output_type": "execute_result"
    }
   ],
   "source": [
    "def myfunc(a, b):\n",
    "    if a > b:\n",
    "        return a - b\n",
    "    else:\n",
    "        return a + b\n",
    "\n",
    "vfunc = np.vectorize(myfunc)\n",
    "vfunc([1, 2, 3, 4], 2)"
   ]
  },
  {
   "cell_type": "markdown",
   "metadata": {},
   "source": [
    "What is numpy broadcasting?\n",
    "- Broadcasting describes how numpy treats arrays with different shapes during arithmetic operations. The smaller array would be \"broadcast\" across the larger array so they have compatible shapes\n",
    "- In the example below, the 2 from `b` is stretched across the size of `a` so that `a` can be multiplied by `b`"
   ]
  },
  {
   "cell_type": "code",
   "execution_count": 6,
   "metadata": {},
   "outputs": [
    {
     "data": {
      "text/plain": [
       "array([2, 4, 6])"
      ]
     },
     "execution_count": 6,
     "metadata": {},
     "output_type": "execute_result"
    }
   ],
   "source": [
    "a = np.array([1, 2, 3])\n",
    "b = 2\n",
    "a * b"
   ]
  },
  {
   "cell_type": "markdown",
   "metadata": {},
   "source": [
    "Algorithm analysis is checking to make sure that a function can use its resources efficiently, either in memory size or average runtime"
   ]
  },
  {
   "cell_type": "markdown",
   "metadata": {},
   "source": [
    "- <strong>Time Complexity</strong> is the amount of time a function takes to run based on the size of its inputs\n",
    "- <strong>Space Complexity</strong> is the amount of memory a function takes during runtime based oon the size of its inputs"
   ]
  },
  {
   "cell_type": "markdown",
   "metadata": {},
   "source": [
    "- <font color='green'>Constant time</font> = $O(1)$\n",
    "- <font color='lime'>Logarithmic</font> = $O(log(n))$\n",
    "- <font color='yellow'>Linear time</font> = $O(n)$\n",
    "- <font color='orange'>Log linear</font> = $O(n log(n))$\n",
    "- <font color='salmon'>Quadratic</font> = $O(n^2)$\n",
    "- <font color='salmon'>Polynomial</font> = $O(n^k)$\n",
    "- <font color='salmon'>Exponential</font> = $O(2^n)$"
   ]
  },
  {
   "cell_type": "markdown",
   "metadata": {},
   "source": [
    "Time complexities of common algorithms:\n",
    "- Linear Search: <font color='yellow'>$O(n)$</font>\n",
    "- Binary Search: <font color='lime'>$O(log(n))$</font>\n",
    "- Merge Sort: <font color = 'orange'>$O(n log(n))$</font>\n",
    "- Bubble Sort: <font color='salmon'>$O(n^2)$</font>\n",
    "- Selection Sort: <font color='salmon'>$O(n^2)$</font>\n",
    "- Shell sort: <font color='salmon'>$O(n(log(n))^2)$</font>"
   ]
  }
 ],
 "metadata": {
  "interpreter": {
   "hash": "5effaac212c4d742dedc00b09a52cfe9f08c2a6087482c8e8046c630cf2b079b"
  },
  "kernelspec": {
   "display_name": "Python 3.8.12 ('base')",
   "language": "python",
   "name": "python3"
  },
  "language_info": {
   "codemirror_mode": {
    "name": "ipython",
    "version": 3
   },
   "file_extension": ".py",
   "mimetype": "text/x-python",
   "name": "python",
   "nbconvert_exporter": "python",
   "pygments_lexer": "ipython3",
   "version": "3.8.12"
  },
  "orig_nbformat": 4
 },
 "nbformat": 4,
 "nbformat_minor": 2
}
