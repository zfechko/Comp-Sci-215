{
 "cells": [
  {
   "cell_type": "markdown",
   "metadata": {},
   "source": [
    "# Trees Notes\n",
    "A tree is a non-linear, hierarchical data structure consisting of a collection of nodes(elements) and a collection of edges between the nodes\n",
    "- Each node in a tree has a parent node and multiple child nodes\n",
    "- A leaf node is a node that has no children\n",
    "- A tree is built up of subtrees, which are trees themselves"
   ]
  },
  {
   "cell_type": "markdown",
   "metadata": {},
   "source": [
    "### Tree Traversal\n",
    "There are 3 ways to traverse a tree\n",
    "1. **Pre-Order**: Process data, visit left subtree, visit right subtree\n",
    "2. **In Order**: Visit left subtree, process data, visit right subtree\n",
    "3. **Post-Order**: Visit left, subtree, visit right subtree, process data"
   ]
  },
  {
   "cell_type": "markdown",
   "metadata": {},
   "source": [
    "### Binary Trees\n",
    "A binary tree is a tree where each node has a max of two children\n",
    "- **Full binary tree**: Bottom level is full\n",
    "- **Complete binary tree**: Next to bottom is level is full and bottom level is filled from left to right"
   ]
  },
  {
   "cell_type": "markdown",
   "metadata": {},
   "source": [
    "### Tree Node and Binary Tree implementation (nodes and links version)"
   ]
  },
  {
   "cell_type": "code",
   "execution_count": 5,
   "metadata": {},
   "outputs": [],
   "source": [
    "class Node:\n",
    "    def __init__(self, data, left_child = None, right_child = None):\n",
    "        self.data = data\n",
    "        self.left = left_child\n",
    "        self.right = right_child\n",
    "\n",
    "class BinaryTree:\n",
    "    def __init__(self, root = None):\n",
    "        self.root = root\n",
    "    \n",
    "    def insert_left(self, data):\n",
    "        \"\"\"\n",
    "        Inserts a node to the left of the root, does not traverse down the tree to a leaf\n",
    "        \"\"\"\n",
    "        if self.root is None:\n",
    "            self.root = Node(data)\n",
    "        else:\n",
    "            n = Node(data)\n",
    "            n.left = self.root.left\n",
    "            self.root.left = n\n",
    "\n",
    "    def insert_right(self, data):\n",
    "        \"\"\"\n",
    "        Inserts a node to the right of the root, does not traverse\n",
    "        \"\"\"\n",
    "        if self.root is None:\n",
    "            self.root = Node(data)\n",
    "        else:\n",
    "            n = Node(data)\n",
    "            n.left - self.root.left\n",
    "            self.root.left = n\n",
    "    \n",
    "    def pre_order_helper(self, node):\n",
    "        \"\"\"\n",
    "        Recursive helper function to pre_order_traversal\n",
    "        \"\"\"\n",
    "        if node is not None:\n",
    "            print(node.data, end=' ') #process data\n",
    "            self.pre_order_helper(node.left) #visit left subtree\n",
    "            self.pre_order_helper(node.right) #visit right subtree\n",
    "        else:\n",
    "            return\n",
    "    \n",
    "    def pre_order_traversal(self):\n",
    "        \"\"\"\n",
    "        Wrapper function that calls the recursive helper function\n",
    "        \"\"\"\n",
    "        self.pre_order_helper(self.root)\n",
    "        print('\\n')\n",
    "\n",
    "    def level_order_helper(self, node, node_list):\n",
    "        \"\"\"\n",
    "        Recursive helper to level_order traversal\n",
    "        \"\"\"\n",
    "        if node is not None:\n",
    "            if node.left is not None:\n",
    "                node_list.append(node.left)\n",
    "            if node.right is not None:\n",
    "                node_list.append(node.right)\n",
    "            self.level_order_helper(node.left, node_list)\n",
    "            self.level_order_helper(node.right, node_list)\n",
    "    \n",
    "    def level_order_traversal(self):\n",
    "        if self.root is None:\n",
    "            print(\"Tree is empty\")\n",
    "            return\n",
    "        else:\n",
    "            node_list = [self.root]\n",
    "            self.level_order_helper(self.root, node_list)\n",
    "            for node in node_list:\n",
    "                print(node.data, end=' ')\n",
    "            print('\\n')\n"
   ]
  },
  {
   "cell_type": "code",
   "execution_count": 8,
   "metadata": {},
   "outputs": [
    {
     "name": "stdout",
     "output_type": "stream",
     "text": [
      "Pre-order Traversal:\n",
      "1 2 4 5 3 6 7 \n",
      "\n",
      "Level-order Traversal:\n",
      "1 2 3 4 5 6 7 \n",
      "\n"
     ]
    }
   ],
   "source": [
    "tree = BinaryTree()\n",
    "n = Node(1)\n",
    "tree.root = n\n",
    "n = Node(2, Node(4), Node(5))\n",
    "tree.root.left = n\n",
    "n = Node(3, Node(6), Node(7))\n",
    "tree.root.right = n\n",
    "print(\"Pre-order Traversal:\")\n",
    "tree.pre_order_traversal()\n",
    "print(\"Level-order Traversal:\")\n",
    "tree.level_order_traversal()"
   ]
  },
  {
   "cell_type": "markdown",
   "metadata": {},
   "source": [
    "### Binary Tree Implementation (recursive version)"
   ]
  },
  {
   "cell_type": "code",
   "execution_count": 14,
   "metadata": {},
   "outputs": [],
   "source": [
    "class recursive_tree:\n",
    "    def __init__(self, root_data=None, left=None, right=None):\n",
    "        self.root_data = root_data\n",
    "        self.left = left\n",
    "        self.right = right\n",
    "\n",
    "    def insert_left(self, new_data):\n",
    "        \"\"\"\n",
    "        Inserts to the left of the node, does not traverse\n",
    "        \"\"\"\n",
    "        if self.left == None:\n",
    "            self.left = recursive_tree(new_data)\n",
    "        else:\n",
    "            t = recursive_tree(new_data)\n",
    "            t.left = self.left\n",
    "            self.left = t\n",
    "\n",
    "    def insert_right(self, new_data):\n",
    "        \"\"\"\n",
    "        Inserts to the right of the node, does not traverse\n",
    "        \"\"\"\n",
    "        if self.right == None:\n",
    "            self.right = recursive_tree(new_data)\n",
    "        else:\n",
    "            t = recursive_tree(new_data)\n",
    "            t.right = self.right\n",
    "            self.right = t\n",
    "\n",
    "    def pre_order_helper(self, tree):\n",
    "        \"\"\"\n",
    "        Recursive helper for pre_order_traversal\n",
    "        \"\"\"\n",
    "        if tree is not None:\n",
    "            print(tree.root_data, end=' ')\n",
    "            self.pre_order_helper(tree.left)\n",
    "            self.pre_order_helper(tree.right)\n",
    "\n",
    "    def pre_order_traversal(self):\n",
    "        if self.root_data is not None:\n",
    "            self.pre_order_helper(self)\n",
    "            print('\\n')\n",
    "        else:\n",
    "            print(\"emtpy\")\n",
    "            return\n",
    "    \n",
    "    def level_order_helper(self, tree, data_list):\n",
    "        if tree is not None:\n",
    "            if tree.left is not None:\n",
    "                data_list.append(tree.left.root_data)\n",
    "            if tree.right is not None:\n",
    "                data_list.append(tree.right.root_data)\n",
    "            self.level_order_helper(tree.left, data_list)\n",
    "            self.level_order_helper(tree.right, data_list)\n",
    "    \n",
    "    def level_order_traversal(self):\n",
    "        if self.root_data is not None:\n",
    "            data_list = [self.root_data]\n",
    "            self.level_order_helper(self, data_list)\n",
    "            for data in data_list:\n",
    "                print(data, end=' ')\n",
    "            print('\\n')"
   ]
  },
  {
   "cell_type": "code",
   "execution_count": 15,
   "metadata": {},
   "outputs": [
    {
     "name": "stdout",
     "output_type": "stream",
     "text": [
      "Pre-order Traversal:\n",
      "1 2 4 5 3 6 7 \n",
      "\n",
      "Level-order Traversal:\n",
      "1 2 3 4 5 6 7 \n",
      "\n"
     ]
    }
   ],
   "source": [
    "tree = recursive_tree(1)\n",
    "tree.insert_left(2)\n",
    "tree.left.insert_left(4)\n",
    "tree.left.insert_right(5)\n",
    "\n",
    "tree.insert_right(3)\n",
    "tree.right.insert_left(6)\n",
    "tree.right.insert_right(7)\n",
    "\n",
    "# Alternate approach to inserting subtrees\n",
    "#tree.left_child = BinaryTree(2, BinaryTree(4), BinaryTree(5))\n",
    "#tree.right_child = BinaryTree(3, BinaryTree(6), BinaryTree(7))\n",
    "\n",
    "print(\"Pre-order Traversal:\")\n",
    "tree.pre_order_traversal()\n",
    "print(\"Level-order Traversal:\")\n",
    "tree.level_order_traversal()"
   ]
  }
 ],
 "metadata": {
  "interpreter": {
   "hash": "3222c84137c15fb0b417a2b3b227c5752af7be020785dee995c08d7cae6648d8"
  },
  "kernelspec": {
   "display_name": "Python 3.8.12 ('Comp Sci 215')",
   "language": "python",
   "name": "python3"
  },
  "language_info": {
   "codemirror_mode": {
    "name": "ipython",
    "version": 3
   },
   "file_extension": ".py",
   "mimetype": "text/x-python",
   "name": "python",
   "nbconvert_exporter": "python",
   "pygments_lexer": "ipython3",
   "version": "3.8.12"
  },
  "orig_nbformat": 4
 },
 "nbformat": 4,
 "nbformat_minor": 2
}
